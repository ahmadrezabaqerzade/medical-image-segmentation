{
  "nbformat": 4,
  "nbformat_minor": 0,
  "metadata": {
    "colab": {
      "provenance": [],
      "collapsed_sections": [
        "9EuxFrxZGzrs",
        "WlDO8-ZiJaua",
        "aLjjXooUpQUL",
        "2gKhMk_KpihL",
        "0Fh0Rphov7XX"
      ]
    },
    "kernelspec": {
      "name": "python3",
      "display_name": "Python 3"
    },
    "language_info": {
      "name": "python"
    }
  },
  "cells": [
    {
      "cell_type": "code",
      "source": [
        "from google.colab import drive\n",
        "drive.mount('/content/drive')"
      ],
      "metadata": {
        "colab": {
          "base_uri": "https://localhost:8080/"
        },
        "id": "yxBIFu2Jlw1m",
        "outputId": "fa6709a0-68bc-44d2-fbc2-8840c18ba97b"
      },
      "execution_count": 1,
      "outputs": [
        {
          "output_type": "stream",
          "name": "stdout",
          "text": [
            "Mounted at /content/drive\n"
          ]
        }
      ]
    },
    {
      "cell_type": "markdown",
      "source": [
        "# 🟡 **install dependencies**\n"
      ],
      "metadata": {
        "id": "9EuxFrxZGzrs"
      }
    },
    {
      "cell_type": "code",
      "execution_count": 1,
      "metadata": {
        "colab": {
          "base_uri": "https://localhost:8080/"
        },
        "id": "W5MpTjdjGqf0",
        "outputId": "f75b00fe-7fa7-4248-8314-9d80e77bc322"
      },
      "outputs": [
        {
          "output_type": "stream",
          "name": "stdout",
          "text": [
            "Requirement already satisfied: torchmetrics in /usr/local/lib/python3.10/dist-packages (1.2.0)\n",
            "Requirement already satisfied: numpy>1.20.0 in /usr/local/lib/python3.10/dist-packages (from torchmetrics) (1.23.5)\n",
            "Requirement already satisfied: torch>=1.8.1 in /usr/local/lib/python3.10/dist-packages (from torchmetrics) (2.1.0+cu118)\n",
            "Requirement already satisfied: lightning-utilities>=0.8.0 in /usr/local/lib/python3.10/dist-packages (from torchmetrics) (0.9.0)\n",
            "Requirement already satisfied: packaging>=17.1 in /usr/local/lib/python3.10/dist-packages (from lightning-utilities>=0.8.0->torchmetrics) (23.2)\n",
            "Requirement already satisfied: typing-extensions in /usr/local/lib/python3.10/dist-packages (from lightning-utilities>=0.8.0->torchmetrics) (4.5.0)\n",
            "Requirement already satisfied: filelock in /usr/local/lib/python3.10/dist-packages (from torch>=1.8.1->torchmetrics) (3.13.1)\n",
            "Requirement already satisfied: sympy in /usr/local/lib/python3.10/dist-packages (from torch>=1.8.1->torchmetrics) (1.12)\n",
            "Requirement already satisfied: networkx in /usr/local/lib/python3.10/dist-packages (from torch>=1.8.1->torchmetrics) (3.2.1)\n",
            "Requirement already satisfied: jinja2 in /usr/local/lib/python3.10/dist-packages (from torch>=1.8.1->torchmetrics) (3.1.2)\n",
            "Requirement already satisfied: fsspec in /usr/local/lib/python3.10/dist-packages (from torch>=1.8.1->torchmetrics) (2023.6.0)\n",
            "Requirement already satisfied: triton==2.1.0 in /usr/local/lib/python3.10/dist-packages (from torch>=1.8.1->torchmetrics) (2.1.0)\n",
            "Requirement already satisfied: MarkupSafe>=2.0 in /usr/local/lib/python3.10/dist-packages (from jinja2->torch>=1.8.1->torchmetrics) (2.1.3)\n",
            "Requirement already satisfied: mpmath>=0.19 in /usr/local/lib/python3.10/dist-packages (from sympy->torch>=1.8.1->torchmetrics) (1.3.0)\n"
          ]
        }
      ],
      "source": [
        "!pip install torchmetrics"
      ]
    },
    {
      "cell_type": "code",
      "source": [],
      "metadata": {
        "id": "FptRWoOvGutr"
      },
      "execution_count": 1,
      "outputs": []
    },
    {
      "cell_type": "markdown",
      "source": [
        "# 🔵 **Imports**"
      ],
      "metadata": {
        "id": "WlDO8-ZiJaua"
      }
    },
    {
      "cell_type": "code",
      "source": [
        "import numpy as np\n",
        "import pandas as pd\n",
        "import matplotlib.pyplot as plt\n",
        "\n",
        "import torch\n",
        "from torch import nn\n",
        "from torch.utils.data import DataLoader, Dataset, random_split\n",
        "from torch.nn.utils.rnn import pack_padded_sequence\n",
        "\n",
        "import torchvision\n",
        "from torchvision import transforms as T\n",
        "from torchvision.utils import make_grid\n",
        "from torchvision import models\n",
        "\n",
        "from PIL import Image\n",
        "\n",
        "from torch import optim\n",
        "from torch.nn import functional as F\n",
        "\n",
        "import tqdm\n",
        "import torchmetrics as tm\n",
        "\n",
        "from collections import Counter\n",
        "import os\n",
        "\n",
        "from IPython import display"
      ],
      "metadata": {
        "id": "yy4K3Rsvojep"
      },
      "execution_count": 2,
      "outputs": []
    },
    {
      "cell_type": "code",
      "source": [
        "!python --version"
      ],
      "metadata": {
        "colab": {
          "base_uri": "https://localhost:8080/"
        },
        "id": "BuEhAqEWo71X",
        "outputId": "51044c13-08e1-48ab-c2e4-69a56dccf1c6"
      },
      "execution_count": 3,
      "outputs": [
        {
          "output_type": "stream",
          "name": "stdout",
          "text": [
            "Python 3.10.12\n"
          ]
        }
      ]
    },
    {
      "cell_type": "code",
      "source": [
        "for lib in [np, torch, torchvision, tqdm]:\n",
        "  print(lib.__name__, '-->', lib.__version__)"
      ],
      "metadata": {
        "colab": {
          "base_uri": "https://localhost:8080/"
        },
        "id": "CBIeCVGuo_ta",
        "outputId": "b8352873-6e7e-40d8-c638-bb257c43e5e9"
      },
      "execution_count": 4,
      "outputs": [
        {
          "output_type": "stream",
          "name": "stdout",
          "text": [
            "numpy --> 1.23.5\n",
            "torch --> 2.1.0+cu118\n",
            "torchvision --> 0.16.0+cu118\n",
            "tqdm --> 4.66.1\n"
          ]
        }
      ]
    },
    {
      "cell_type": "markdown",
      "source": [
        "# 🔵 **Utils**"
      ],
      "metadata": {
        "id": "aLjjXooUpQUL"
      }
    },
    {
      "cell_type": "code",
      "source": [
        "class AverageMeter(object):\n",
        "    \"\"\"Computes and stores the average and current value\"\"\"\n",
        "    def __init__(self):\n",
        "        self.reset()\n",
        "\n",
        "    def reset(self):\n",
        "        self.val = 0\n",
        "        self.avg = 0\n",
        "        self.sum = 0\n",
        "        self.count = 0\n",
        "\n",
        "    def update(self, val, n=1):\n",
        "        self.val = val\n",
        "        self.sum += val * n\n",
        "        self.count += n\n",
        "        self.avg = self.sum / self.count"
      ],
      "metadata": {
        "id": "zvAVjewtpUTZ"
      },
      "execution_count": 5,
      "outputs": []
    },
    {
      "cell_type": "code",
      "source": [
        "def num_trainable_params(model):\n",
        "  nums = sum(p.numel() for p in model.parameters() if p.requires_grad)/1e6\n",
        "  return nums"
      ],
      "metadata": {
        "id": "dkPJv_iOpWut"
      },
      "execution_count": 6,
      "outputs": []
    },
    {
      "cell_type": "code",
      "source": [
        "def set_seed(seed):\n",
        "  np.random.seed(seed)\n",
        "  torch.manual_seed(seed)\n",
        "  if torch.cuda.is_available():\n",
        "      torch.cuda.manual_seed(seed)"
      ],
      "metadata": {
        "id": "Dlu-LOaopY-C"
      },
      "execution_count": 7,
      "outputs": []
    },
    {
      "cell_type": "markdown",
      "source": [
        "# 🔵 **Dataset**"
      ],
      "metadata": {
        "id": "YFsrtGBWpb_-"
      }
    },
    {
      "cell_type": "markdown",
      "source": [
        "## 🔵 **Load Dataset**"
      ],
      "metadata": {
        "id": "2gKhMk_KpihL"
      }
    },
    {
      "cell_type": "code",
      "source": [
        "#!unzip /content/drive/MyDrive/uw-madison-gi-tract-image-segmentation.zip  -d /content/"
      ],
      "metadata": {
        "id": "k7-ciVyZpbUR"
      },
      "execution_count": 8,
      "outputs": []
    },
    {
      "cell_type": "code",
      "source": [
        "t = pd.read_csv('train.csv')"
      ],
      "metadata": {
        "id": "Z598rol6G0rU"
      },
      "execution_count": 9,
      "outputs": []
    },
    {
      "cell_type": "code",
      "source": [
        "w, h = 310, 360"
      ],
      "metadata": {
        "id": "VRNIvrmEmR0M"
      },
      "execution_count": 10,
      "outputs": []
    },
    {
      "cell_type": "code",
      "source": [
        "image = Image.open('/content/train/case78/case78_day26/scans/slice_0097_360_310_1.50_1.50.png').convert('RGB')\n",
        "image"
      ],
      "metadata": {
        "colab": {
          "base_uri": "https://localhost:8080/",
          "height": 327
        },
        "id": "4JkQk9J8qP9A",
        "outputId": "ba15d02d-83cd-4c40-afd6-a98984c48a83"
      },
      "execution_count": 11,
      "outputs": [
        {
          "output_type": "execute_result",
          "data": {
            "text/plain": [
              "<PIL.Image.Image image mode=RGB size=360x310>"
            ],
            "image/png": "[encoded data removed]"
          },
          "metadata": {},
          "execution_count": 11
        }
      ]
    },
    {
      "cell_type": "code",
      "source": [
        "t"
      ],
      "metadata": {
        "colab": {
          "base_uri": "https://localhost:8080/",
          "height": 423
        },
        "id": "xqcLlzKJSu9o",
        "outputId": "90a9da9f-9178-4d62-cef7-0e3d1d6083bf"
      },
      "execution_count": 12,
      "outputs": [
        {
          "output_type": "execute_result",
          "data": {
            "text/plain": [
              "                              id        class segmentation\n",
              "0       case123_day20_slice_0001  large_bowel          NaN\n",
              "1       case123_day20_slice_0001  small_bowel          NaN\n",
              "2       case123_day20_slice_0001      stomach          NaN\n",
              "3       case123_day20_slice_0002  large_bowel          NaN\n",
              "4       case123_day20_slice_0002  small_bowel          NaN\n",
              "...                          ...          ...          ...\n",
              "115483    case30_day0_slice_0143  small_bowel          NaN\n",
              "115484    case30_day0_slice_0143      stomach          NaN\n",
              "115485    case30_day0_slice_0144  large_bowel          NaN\n",
              "115486    case30_day0_slice_0144  small_bowel          NaN\n",
              "115487    case30_day0_slice_0144      stomach          NaN\n",
              "\n",
              "[115488 rows x 3 columns]"
            ],
            "text/html": [
              "\n",
              "  <div id=\"df-f294d1f2-1773-4865-b372-e8a0e3b4a536\" class=\"colab-df-container\">\n",
              "    <div>\n",
              "<style scoped>\n",
              "    .dataframe tbody tr th:only-of-type {\n",
              "        vertical-align: middle;\n",
              "    }\n",
              "\n",
              "    .dataframe tbody tr th {\n",
              "        vertical-align: top;\n",
              "    }\n",
              "\n",
              "    .dataframe thead th {\n",
              "        text-align: right;\n",
              "    }\n",
              "</style>\n",
              "<table border=\"1\" class=\"dataframe\">\n",
              "  <thead>\n",
              "    <tr style=\"text-align: right;\">\n",
              "      <th></th>\n",
              "      <th>id</th>\n",
              "      <th>class</th>\n",
              "      <th>segmentation</th>\n",
              "    </tr>\n",
              "  </thead>\n",
              "  <tbody>\n",
              "    <tr>\n",
              "      <th>0</th>\n",
              "      <td>case123_day20_slice_0001</td>\n",
              "      <td>large_bowel</td>\n",
              "      <td>NaN</td>\n",
              "    </tr>\n",
              "    <tr>\n",
              "      <th>1</th>\n",
              "      <td>case123_day20_slice_0001</td>\n",
              "      <td>small_bowel</td>\n",
              "      <td>NaN</td>\n",
              "    </tr>\n",
              "    <tr>\n",
              "      <th>2</th>\n",
              "      <td>case123_day20_slice_0001</td>\n",
              "      <td>stomach</td>\n",
              "      <td>NaN</td>\n",
              "    </tr>\n",
              "    <tr>\n",
              "      <th>3</th>\n",
              "      <td>case123_day20_slice_0002</td>\n",
              "      <td>large_bowel</td>\n",
              "      <td>NaN</td>\n",
              "    </tr>\n",
              "    <tr>\n",
              "      <th>4</th>\n",
              "      <td>case123_day20_slice_0002</td>\n",
              "      <td>small_bowel</td>\n",
              "      <td>NaN</td>\n",
              "    </tr>\n",
              "    <tr>\n",
              "      <th>...</th>\n",
              "      <td>...</td>\n",
              "      <td>...</td>\n",
              "      <td>...</td>\n",
              "    </tr>\n",
              "    <tr>\n",
              "      <th>115483</th>\n",
              "      <td>case30_day0_slice_0143</td>\n",
              "      <td>small_bowel</td>\n",
              "      <td>NaN</td>\n",
              "    </tr>\n",
              "    <tr>\n",
              "      <th>115484</th>\n",
              "      <td>case30_day0_slice_0143</td>\n",
              "      <td>stomach</td>\n",
              "      <td>NaN</td>\n",
              "    </tr>\n",
              "    <tr>\n",
              "      <th>115485</th>\n",
              "      <td>case30_day0_slice_0144</td>\n",
              "      <td>large_bowel</td>\n",
              "      <td>NaN</td>\n",
              "    </tr>\n",
              "    <tr>\n",
              "      <th>115486</th>\n",
              "      <td>case30_day0_slice_0144</td>\n",
              "      <td>small_bowel</td>\n",
              "      <td>NaN</td>\n",
              "    </tr>\n",
              "    <tr>\n",
              "      <th>115487</th>\n",
              "      <td>case30_day0_slice_0144</td>\n",
              "      <td>stomach</td>\n",
              "      <td>NaN</td>\n",
              "    </tr>\n",
              "  </tbody>\n",
              "</table>\n",
              "<p>115488 rows × 3 columns</p>\n",
              "</div>\n",
              "    <div class=\"colab-df-buttons\">\n",
              "\n",
              "  <div class=\"colab-df-container\">\n",
              "    <button class=\"colab-df-convert\" onclick=\"convertToInteractive('df-f294d1f2-1773-4865-b372-e8a0e3b4a536')\"\n",
              "            title=\"Convert this dataframe to an interactive table.\"\n",
              "            style=\"display:none;\">\n",
              "\n",
              "  <svg xmlns=\"http://www.w3.org/2000/svg\" height=\"24px\" viewBox=\"0 -960 960 960\">\n",
              "    <path d=\"M120-120v-720h720v720H120Zm60-500h600v-160H180v160Zm220 220h160v-160H400v160Zm0 220h160v-160H400v160ZM180-400h160v-160H180v160Zm440 0h160v-160H620v160ZM180-180h160v-160H180v160Zm440 0h160v-160H620v160Z\"/>\n",
              "  </svg>\n",
              "    </button>\n",
              "\n",
              "  <style>\n",
              "    .colab-df-container {\n",
              "      display:flex;\n",
              "      gap: 12px;\n",
              "    }\n",
              "\n",
              "    .colab-df-convert {\n",
              "      background-color: #E8F0FE;\n",
              "      border: none;\n",
              "      border-radius: 50%;\n",
              "      cursor: pointer;\n",
              "      display: none;\n",
              "      fill: #1967D2;\n",
              "      height: 32px;\n",
              "      padding: 0 0 0 0;\n",
              "      width: 32px;\n",
              "    }\n",
              "\n",
              "    .colab-df-convert:hover {\n",
              "      background-color: #E2EBFA;\n",
              "      box-shadow: 0px 1px 2px rgba(60, 64, 67, 0.3), 0px 1px 3px 1px rgba(60, 64, 67, 0.15);\n",
              "      fill: #174EA6;\n",
              "    }\n",
              "\n",
              "    .colab-df-buttons div {\n",
              "      margin-bottom: 4px;\n",
              "    }\n",
              "\n",
              "    [theme=dark] .colab-df-convert {\n",
              "      background-color: #3B4455;\n",
              "      fill: #D2E3FC;\n",
              "    }\n",
              "\n",
              "    [theme=dark] .colab-df-convert:hover {\n",
              "      background-color: #434B5C;\n",
              "      box-shadow: 0px 1px 3px 1px rgba(0, 0, 0, 0.15);\n",
              "      filter: drop-shadow(0px 1px 2px rgba(0, 0, 0, 0.3));\n",
              "      fill: #FFFFFF;\n",
              "    }\n",
              "  </style>\n",
              "\n",
              "    <script>\n",
              "      const buttonEl =\n",
              "        document.querySelector('#df-f294d1f2-1773-4865-b372-e8a0e3b4a536 button.colab-df-convert');\n",
              "      buttonEl.style.display =\n",
              "        google.colab.kernel.accessAllowed ? 'block' : 'none';\n",
              "\n",
              "      async function convertToInteractive(key) {\n",
              "        const element = document.querySelector('#df-f294d1f2-1773-4865-b372-e8a0e3b4a536');\n",
              "        const dataTable =\n",
              "          await google.colab.kernel.invokeFunction('convertToInteractive',\n",
              "                                                    [key], {});\n",
              "        if (!dataTable) return;\n",
              "\n",
              "        const docLinkHtml = 'Like what you see? Visit the ' +\n",
              "          '<a target=\"_blank\" href=https://colab.research.google.com/notebooks/data_table.ipynb>data table notebook</a>'\n",
              "          + ' to learn more about interactive tables.';\n",
              "        element.innerHTML = '';\n",
              "        dataTable['output_type'] = 'display_data';\n",
              "        await google.colab.output.renderOutput(dataTable, element);\n",
              "        const docLink = document.createElement('div');\n",
              "        docLink.innerHTML = docLinkHtml;\n",
              "        element.appendChild(docLink);\n",
              "      }\n",
              "    </script>\n",
              "  </div>\n",
              "\n",
              "\n",
              "<div id=\"df-55b57765-6a68-4ef2-97c5-ee655f3a2919\">\n",
              "  <button class=\"colab-df-quickchart\" onclick=\"quickchart('df-55b57765-6a68-4ef2-97c5-ee655f3a2919')\"\n",
              "            title=\"Suggest charts\"\n",
              "            style=\"display:none;\">\n",
              "\n",
              "<svg xmlns=\"http://www.w3.org/2000/svg\" height=\"24px\"viewBox=\"0 0 24 24\"\n",
              "     width=\"24px\">\n",
              "    <g>\n",
              "        <path d=\"M19 3H5c-1.1 0-2 .9-2 2v14c0 1.1.9 2 2 2h14c1.1 0 2-.9 2-2V5c0-1.1-.9-2-2-2zM9 17H7v-7h2v7zm4 0h-2V7h2v10zm4 0h-2v-4h2v4z\"/>\n",
              "    </g>\n",
              "</svg>\n",
              "  </button>\n",
              "\n",
              "<style>\n",
              "  .colab-df-quickchart {\n",
              "      --bg-color: #E8F0FE;\n",
              "      --fill-color: #1967D2;\n",
              "      --hover-bg-color: #E2EBFA;\n",
              "      --hover-fill-color: #174EA6;\n",
              "      --disabled-fill-color: #AAA;\n",
              "      --disabled-bg-color: #DDD;\n",
              "  }\n",
              "\n",
              "  [theme=dark] .colab-df-quickchart {\n",
              "      --bg-color: #3B4455;\n",
              "      --fill-color: #D2E3FC;\n",
              "      --hover-bg-color: #434B5C;\n",
              "      --hover-fill-color: #FFFFFF;\n",
              "      --disabled-bg-color: #3B4455;\n",
              "      --disabled-fill-color: #666;\n",
              "  }\n",
              "\n",
              "  .colab-df-quickchart {\n",
              "    background-color: var(--bg-color);\n",
              "    border: none;\n",
              "    border-radius: 50%;\n",
              "    cursor: pointer;\n",
              "    display: none;\n",
              "    fill: var(--fill-color);\n",
              "    height: 32px;\n",
              "    padding: 0;\n",
              "    width: 32px;\n",
              "  }\n",
              "\n",
              "  .colab-df-quickchart:hover {\n",
              "    background-color: var(--hover-bg-color);\n",
              "    box-shadow: 0 1px 2px rgba(60, 64, 67, 0.3), 0 1px 3px 1px rgba(60, 64, 67, 0.15);\n",
              "    fill: var(--button-hover-fill-color);\n",
              "  }\n",
              "\n",
              "  .colab-df-quickchart-complete:disabled,\n",
              "  .colab-df-quickchart-complete:disabled:hover {\n",
              "    background-color: var(--disabled-bg-color);\n",
              "    fill: var(--disabled-fill-color);\n",
              "    box-shadow: none;\n",
              "  }\n",
              "\n",
              "  .colab-df-spinner {\n",
              "    border: 2px solid var(--fill-color);\n",
              "    border-color: transparent;\n",
              "    border-bottom-color: var(--fill-color);\n",
              "    animation:\n",
              "      spin 1s steps(1) infinite;\n",
              "  }\n",
              "\n",
              "  @keyframes spin {\n",
              "    0% {\n",
              "      border-color: transparent;\n",
              "      border-bottom-color: var(--fill-color);\n",
              "      border-left-color: var(--fill-color);\n",
              "    }\n",
              "    20% {\n",
              "      border-color: transparent;\n",
              "      border-left-color: var(--fill-color);\n",
              "      border-top-color: var(--fill-color);\n",
              "    }\n",
              "    30% {\n",
              "      border-color: transparent;\n",
              "      border-left-color: var(--fill-color);\n",
              "      border-top-color: var(--fill-color);\n",
              "      border-right-color: var(--fill-color);\n",
              "    }\n",
              "    40% {\n",
              "      border-color: transparent;\n",
              "      border-right-color: var(--fill-color);\n",
              "      border-top-color: var(--fill-color);\n",
              "    }\n",
              "    60% {\n",
              "      border-color: transparent;\n",
              "      border-right-color: var(--fill-color);\n",
              "    }\n",
              "    80% {\n",
              "      border-color: transparent;\n",
              "      border-right-color: var(--fill-color);\n",
              "      border-bottom-color: var(--fill-color);\n",
              "    }\n",
              "    90% {\n",
              "      border-color: transparent;\n",
              "      border-bottom-color: var(--fill-color);\n",
              "    }\n",
              "  }\n",
              "</style>\n",
              "\n",
              "  <script>\n",
              "    async function quickchart(key) {\n",
              "      const quickchartButtonEl =\n",
              "        document.querySelector('#' + key + ' button');\n",
              "      quickchartButtonEl.disabled = true;  // To prevent multiple clicks.\n",
              "      quickchartButtonEl.classList.add('colab-df-spinner');\n",
              "      try {\n",
              "        const charts = await google.colab.kernel.invokeFunction(\n",
              "            'suggestCharts', [key], {});\n",
              "      } catch (error) {\n",
              "        console.error('Error during call to suggestCharts:', error);\n",
              "      }\n",
              "      quickchartButtonEl.classList.remove('colab-df-spinner');\n",
              "      quickchartButtonEl.classList.add('colab-df-quickchart-complete');\n",
              "    }\n",
              "    (() => {\n",
              "      let quickchartButtonEl =\n",
              "        document.querySelector('#df-55b57765-6a68-4ef2-97c5-ee655f3a2919 button');\n",
              "      quickchartButtonEl.style.display =\n",
              "        google.colab.kernel.accessAllowed ? 'block' : 'none';\n",
              "    })();\n",
              "  </script>\n",
              "</div>\n",
              "    </div>\n",
              "  </div>\n"
            ]
          },
          "metadata": {},
          "execution_count": 12
        }
      ]
    },
    {
      "cell_type": "code",
      "source": [
        "def rle_to_mask(rle, shape):\n",
        "    mask = np.zeros(shape, dtype=np.uint8)\n",
        "    rle_pairs = rle.split()\n",
        "    starts = [int(x) - 1 for x in rle_pairs[0::2]]  # Subtract 1 to convert to 0-based indexing\n",
        "    lengths = [int(x) for x in rle_pairs[1::2]]\n",
        "\n",
        "    for start, length in zip(starts, lengths):\n",
        "        end = start + length\n",
        "        mask_flat = mask.reshape(-1)\n",
        "        mask_flat[start:end] = 1\n",
        "\n",
        "    return mask\n",
        "\n",
        "# Example usage\n",
        "rle_encoded = t['segmentation'][12000]\n",
        "image_shape = (310, 360)  # Shape of the image or mask\n",
        "\n",
        "mask = rle_to_mask(rle_encoded, image_shape)\n",
        "\n",
        "# Save the mask as an image\n",
        "mask_image = Image.fromarray(mask * 255)  # Scale the mask values from [0, 1] to [0, 255]\n",
        "mask_image"
      ],
      "metadata": {
        "id": "3cWRjOXSjott",
        "colab": {
          "base_uri": "https://localhost:8080/",
          "height": 327
        },
        "outputId": "2f6dc920-57b3-4689-fe1a-bf35470da57a"
      },
      "execution_count": 18,
      "outputs": [
        {
          "output_type": "execute_result",
          "data": {
            "text/plain": [
              "<PIL.Image.Image image mode=L size=360x310>"
            ],
            "image/png": "[encoded data removed]"
          },
          "metadata": {},
          "execution_count": 18
        }
      ]
    },
    {
      "cell_type": "code",
      "source": [
        "class Clean_Data():\n",
        "  def __init__(self, csv_address):\n",
        "\n",
        "    self.csv_info = pd.read_csv(csv_address)\n",
        "\n",
        "  def forward(self, text_case_address):\n",
        "\n",
        "    csv_file = self.new_csv_info(text_case_address)\n",
        "    return csv_file\n",
        "\n",
        "  def rle_to_mask(self, rle : str, shape: tuple, seg_cls: int):\n",
        "    mask = np.zeros(shape, dtype=np.uint8)\n",
        "    rle_pairs = rle.split()\n",
        "    starts = [int(x) - 1 for x in rle_pairs[0::2]]  # Subtract 1 to convert to 0-based indexing\n",
        "    lengths = [int(x) for x in rle_pairs[1::2]]\n",
        "\n",
        "    for start, length in zip(starts, lengths):\n",
        "        end = start + length\n",
        "        mask_flat = mask.reshape(-1)\n",
        "        mask_flat[start:end] = seg_cls\n",
        "\n",
        "    mask = torch.tensor(mask)\n",
        "    return mask\n",
        "\n",
        "  def new_csv_info(self, text_case_address):\n",
        "    cases = np.loadtxt(text_case_address, dtype = str).tolist()\n",
        "    address = []\n",
        "    for case_n in cases:\n",
        "      case_plus_day = os.listdir(f'/content/train/{case_n}/')\n",
        "      for cpd in case_plus_day:\n",
        "        im_add = os.listdir(f'/content/train/{case_n}/{cpd}/scans/')\n",
        "        for im in im_add:\n",
        "          address.append(f'/content/train/{case_n}/{cpd}/scans/{im}')\n",
        "\n",
        "    new_csv = []\n",
        "    c = 0\n",
        "    for i, id in enumerate(self.csv_info['id']):\n",
        "      id = id.split('_')\n",
        "      for add in address:\n",
        "        if f'{id[0]}_{id[1]}' in add and id[3] in add:\n",
        "          cls = 0\n",
        "          if str(self.csv_info['segmentation'][i]) == 'nan':\n",
        "            cls = 0\n",
        "          else:\n",
        "            if self.csv_info['class'][i] == 'large_bowel':\n",
        "              cls = 1\n",
        "            elif self.csv_info['class'][i] == 'small_bowel':\n",
        "              cls = 2\n",
        "            else:\n",
        "              cls = 3\n",
        "\n",
        "          shape = (int(add.split('_')[4]), int(add.split('_')[3]))\n",
        "          new_csv.append([add, self.csv_info['id'][i], cls, self.csv_info['segmentation'][i], shape])\n",
        "\n",
        "    new_csv = pd.DataFrame(np.array(new_csv), columns = ['Image Address', 'ID', 'Class', 'Segmentation', 'Shape'])\n",
        "\n",
        "    print('csv file created!')\n",
        "\n",
        "    return new_csv"
      ],
      "metadata": {
        "id": "J5XTNfTF85Xd"
      },
      "execution_count": 14,
      "outputs": []
    },
    {
      "cell_type": "code",
      "source": [
        "clean = Clean_Data('train.csv')"
      ],
      "metadata": {
        "id": "g9DkFYlcN2In"
      },
      "execution_count": 20,
      "outputs": []
    },
    {
      "cell_type": "code",
      "source": [
        "ans = input('do you have csv file for train, validation and test: (yes or no)')\n",
        "if ans == 'yes':\n",
        "  train_csv = pd.read_csv('train_info.csv')\n",
        "  valid_csv = pd.read_csv('valid_info.csv')\n",
        "  test_csv  = pd.read_csv('test_info.csv')\n",
        "\n",
        "if ans == 'no':\n",
        "  train_csv = clean.forward('train.txt')\n",
        "  valid_csv = clean.forward('validation.txt')\n",
        "  test_csv  = clean.forward('test.txt')\n",
        "\n",
        "  train_csv.to_csv('train_info.csv')\n",
        "  valid_csv.to_csv('valid_info.csv')\n",
        "  test_csv.to_csv('test_info.csv')"
      ],
      "metadata": {
        "colab": {
          "base_uri": "https://localhost:8080/"
        },
        "id": "7zcD9guHN3_V",
        "outputId": "9811a207-e925-49b2-9065-102f2daf0705"
      },
      "execution_count": 32,
      "outputs": [
        {
          "name": "stdout",
          "output_type": "stream",
          "text": [
            "do you have csv file for train, validation and test: (yes or no)yes\n"
          ]
        }
      ]
    },
    {
      "cell_type": "code",
      "source": [
        "print(f'train size      : {train_csv.shape[0]}')\n",
        "print(f'validation size : {valid_csv.shape[0]}')\n",
        "print(f'test size       : {test_csv.shape[0]}')\n",
        "print(f'total           : {train_csv.shape[0] + valid_csv.shape[0] + test_csv.shape[0]}')"
      ],
      "metadata": {
        "colab": {
          "base_uri": "https://localhost:8080/"
        },
        "id": "4-J5QpjBmsV2",
        "outputId": "ddccf9e3-a031-44f2-8090-d64d3e41e605"
      },
      "execution_count": 34,
      "outputs": [
        {
          "output_type": "stream",
          "name": "stdout",
          "text": [
            "train size      : 82320\n",
            "validation size : 9504\n",
            "test size       : 23664\n",
            "total           : 115488\n"
          ]
        }
      ]
    },
    {
      "cell_type": "markdown",
      "source": [
        "## 🔵 **EDA**"
      ],
      "metadata": {
        "id": "0Fh0Rphov7XX"
      }
    },
    {
      "cell_type": "code",
      "source": [],
      "metadata": {
        "id": "Kgzzdjw2wOtS"
      },
      "execution_count": null,
      "outputs": []
    }
  ]
}