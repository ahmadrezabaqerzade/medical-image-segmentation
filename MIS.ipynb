{
  "nbformat": 4,
  "nbformat_minor": 0,
  "metadata": {
    "colab": {
      "provenance": [],
      "collapsed_sections": [
        "9EuxFrxZGzrs",
        "WlDO8-ZiJaua",
        "aLjjXooUpQUL",
        "0Fh0Rphov7XX"
      ]
    },
    "kernelspec": {
      "name": "python3",
      "display_name": "Python 3"
    },
    "language_info": {
      "name": "python"
    }
  },
  "cells": [
    {
      "cell_type": "code",
      "source": [
        "from google.colab import drive\n",
        "drive.mount('/content/drive')"
      ],
      "metadata": {
        "colab": {
          "base_uri": "https://localhost:8080/"
        },
        "id": "yxBIFu2Jlw1m",
        "outputId": "5667a688-f8d4-4420-ccc1-d97432d96f70"
      },
      "execution_count": 1,
      "outputs": [
        {
          "output_type": "stream",
          "name": "stdout",
          "text": [
            "Mounted at /content/drive\n"
          ]
        }
      ]
    },
    {
      "cell_type": "markdown",
      "source": [
        "# 🟡 **install dependencies**\n"
      ],
      "metadata": {
        "id": "9EuxFrxZGzrs"
      }
    },
    {
      "cell_type": "code",
      "execution_count": 2,
      "metadata": {
        "colab": {
          "base_uri": "https://localhost:8080/"
        },
        "id": "W5MpTjdjGqf0",
        "outputId": "06d52649-bbdf-4868-859b-58a29200aa25"
      },
      "outputs": [
        {
          "output_type": "stream",
          "name": "stdout",
          "text": [
            "Collecting torchmetrics\n",
            "  Downloading torchmetrics-1.2.0-py3-none-any.whl (805 kB)\n",
            "\u001b[2K     \u001b[90m━━━━━━━━━━━━━━━━━━━━━━━━━━━━━━━━━━━━━━━━\u001b[0m \u001b[32m805.2/805.2 kB\u001b[0m \u001b[31m6.4 MB/s\u001b[0m eta \u001b[36m0:00:00\u001b[0m\n",
            "\u001b[?25hRequirement already satisfied: numpy>1.20.0 in /usr/local/lib/python3.10/dist-packages (from torchmetrics) (1.23.5)\n",
            "Requirement already satisfied: torch>=1.8.1 in /usr/local/lib/python3.10/dist-packages (from torchmetrics) (2.1.0+cu118)\n",
            "Collecting lightning-utilities>=0.8.0 (from torchmetrics)\n",
            "  Downloading lightning_utilities-0.9.0-py3-none-any.whl (23 kB)\n",
            "Requirement already satisfied: packaging>=17.1 in /usr/local/lib/python3.10/dist-packages (from lightning-utilities>=0.8.0->torchmetrics) (23.2)\n",
            "Requirement already satisfied: typing-extensions in /usr/local/lib/python3.10/dist-packages (from lightning-utilities>=0.8.0->torchmetrics) (4.5.0)\n",
            "Requirement already satisfied: filelock in /usr/local/lib/python3.10/dist-packages (from torch>=1.8.1->torchmetrics) (3.13.1)\n",
            "Requirement already satisfied: sympy in /usr/local/lib/python3.10/dist-packages (from torch>=1.8.1->torchmetrics) (1.12)\n",
            "Requirement already satisfied: networkx in /usr/local/lib/python3.10/dist-packages (from torch>=1.8.1->torchmetrics) (3.2.1)\n",
            "Requirement already satisfied: jinja2 in /usr/local/lib/python3.10/dist-packages (from torch>=1.8.1->torchmetrics) (3.1.2)\n",
            "Requirement already satisfied: fsspec in /usr/local/lib/python3.10/dist-packages (from torch>=1.8.1->torchmetrics) (2023.6.0)\n",
            "Requirement already satisfied: triton==2.1.0 in /usr/local/lib/python3.10/dist-packages (from torch>=1.8.1->torchmetrics) (2.1.0)\n",
            "Requirement already satisfied: MarkupSafe>=2.0 in /usr/local/lib/python3.10/dist-packages (from jinja2->torch>=1.8.1->torchmetrics) (2.1.3)\n",
            "Requirement already satisfied: mpmath>=0.19 in /usr/local/lib/python3.10/dist-packages (from sympy->torch>=1.8.1->torchmetrics) (1.3.0)\n",
            "Installing collected packages: lightning-utilities, torchmetrics\n",
            "Successfully installed lightning-utilities-0.9.0 torchmetrics-1.2.0\n"
          ]
        }
      ],
      "source": [
        "!pip install torchmetrics"
      ]
    },
    {
      "cell_type": "code",
      "source": [],
      "metadata": {
        "id": "FptRWoOvGutr"
      },
      "execution_count": 2,
      "outputs": []
    },
    {
      "cell_type": "markdown",
      "source": [
        "# 🔵 **Imports**"
      ],
      "metadata": {
        "id": "WlDO8-ZiJaua"
      }
    },
    {
      "cell_type": "code",
      "source": [
        "import numpy as np\n",
        "import pandas as pd\n",
        "import matplotlib.pyplot as plt\n",
        "\n",
        "import torch\n",
        "from torch import nn\n",
        "from torch.utils.data import DataLoader, Dataset, random_split\n",
        "from torch.nn.utils.rnn import pack_padded_sequence\n",
        "\n",
        "import torchvision\n",
        "from torchvision import transforms as T\n",
        "from torchvision.utils import make_grid\n",
        "from torchvision import models\n",
        "\n",
        "from PIL import Image\n",
        "\n",
        "from torch import optim\n",
        "from torch.nn import functional as F\n",
        "\n",
        "import tqdm\n",
        "import torchmetrics as tm\n",
        "\n",
        "from collections import Counter\n",
        "import os\n",
        "\n",
        "from IPython import display"
      ],
      "metadata": {
        "id": "yy4K3Rsvojep"
      },
      "execution_count": 3,
      "outputs": []
    },
    {
      "cell_type": "code",
      "source": [
        "!python --version"
      ],
      "metadata": {
        "colab": {
          "base_uri": "https://localhost:8080/"
        },
        "id": "BuEhAqEWo71X",
        "outputId": "c3c5ca29-7158-4307-dd1b-27ce78c02078"
      },
      "execution_count": 4,
      "outputs": [
        {
          "output_type": "stream",
          "name": "stdout",
          "text": [
            "Python 3.10.12\n"
          ]
        }
      ]
    },
    {
      "cell_type": "code",
      "source": [
        "for lib in [np, torch, torchvision, tqdm]:\n",
        "  print(lib.__name__, '-->', lib.__version__)"
      ],
      "metadata": {
        "colab": {
          "base_uri": "https://localhost:8080/"
        },
        "id": "CBIeCVGuo_ta",
        "outputId": "916668b5-5844-439b-9db7-0659de135464"
      },
      "execution_count": 5,
      "outputs": [
        {
          "output_type": "stream",
          "name": "stdout",
          "text": [
            "numpy --> 1.23.5\n",
            "torch --> 2.1.0+cu118\n",
            "torchvision --> 0.16.0+cu118\n",
            "tqdm --> 4.66.1\n"
          ]
        }
      ]
    },
    {
      "cell_type": "markdown",
      "source": [
        "# 🔵 **Utils**"
      ],
      "metadata": {
        "id": "aLjjXooUpQUL"
      }
    },
    {
      "cell_type": "code",
      "source": [
        "class AverageMeter(object):\n",
        "    \"\"\"Computes and stores the average and current value\"\"\"\n",
        "    def __init__(self):\n",
        "        self.reset()\n",
        "\n",
        "    def reset(self):\n",
        "        self.val = 0\n",
        "        self.avg = 0\n",
        "        self.sum = 0\n",
        "        self.count = 0\n",
        "\n",
        "    def update(self, val, n=1):\n",
        "        self.val = val\n",
        "        self.sum += val * n\n",
        "        self.count += n\n",
        "        self.avg = self.sum / self.count"
      ],
      "metadata": {
        "id": "zvAVjewtpUTZ"
      },
      "execution_count": 6,
      "outputs": []
    },
    {
      "cell_type": "code",
      "source": [
        "def num_trainable_params(model):\n",
        "  nums = sum(p.numel() for p in model.parameters() if p.requires_grad)/1e6\n",
        "  return nums"
      ],
      "metadata": {
        "id": "dkPJv_iOpWut"
      },
      "execution_count": 7,
      "outputs": []
    },
    {
      "cell_type": "code",
      "source": [
        "def set_seed(seed):\n",
        "  np.random.seed(seed)\n",
        "  torch.manual_seed(seed)\n",
        "  if torch.cuda.is_available():\n",
        "      torch.cuda.manual_seed(seed)"
      ],
      "metadata": {
        "id": "Dlu-LOaopY-C"
      },
      "execution_count": 8,
      "outputs": []
    },
    {
      "cell_type": "markdown",
      "source": [
        "# 🔵 **Dataset**"
      ],
      "metadata": {
        "id": "YFsrtGBWpb_-"
      }
    },
    {
      "cell_type": "markdown",
      "source": [
        "## 🔵 **Load Dataset**"
      ],
      "metadata": {
        "id": "2gKhMk_KpihL"
      }
    },
    {
      "cell_type": "code",
      "source": [
        "!unzip /content/drive/MyDrive/uw-madison-gi-tract-image-segmentation.zip  -d /content/"
      ],
      "metadata": {
        "id": "k7-ciVyZpbUR"
      },
      "execution_count": null,
      "outputs": []
    },
    {
      "cell_type": "code",
      "source": [
        "t = pd.read_csv('train.csv')"
      ],
      "metadata": {
        "id": "Z598rol6G0rU"
      },
      "execution_count": 10,
      "outputs": []
    },
    {
      "cell_type": "code",
      "source": [
        "w, h = 310, 360"
      ],
      "metadata": {
        "id": "VRNIvrmEmR0M"
      },
      "execution_count": 11,
      "outputs": []
    },
    {
      "cell_type": "code",
      "source": [
        "image = Image.open('/content/train/case78/case78_day26/scans/slice_0097_360_310_1.50_1.50.png').convert('RGB')\n",
        "image"
      ],
      "metadata": {
        "colab": {
          "base_uri": "https://localhost:8080/",
          "height": 327
        },
        "id": "4JkQk9J8qP9A",
        "outputId": "b5ab2ace-3e89-4ea8-9734-2016466d58b4"
      },
      "execution_count": 12,
      "outputs": [
        {
          "output_type": "execute_result",
          "data": {
            "text/plain": [
              "<PIL.Image.Image image mode=RGB size=360x310>"
            ],
            "image/png": "[encoded data removed]"
          },
          "metadata": {},
          "execution_count": 12
        }
      ]
    },
    {
      "cell_type": "code",
      "source": [
        "t"
      ],
      "metadata": {
        "colab": {
          "base_uri": "https://localhost:8080/",
          "height": 423
        },
        "id": "xqcLlzKJSu9o",
        "outputId": "71e57f43-e8af-4749-e7dd-758385529cc5"
      },
      "execution_count": 13,
      "outputs": [
        {
          "output_type": "execute_result",
          "data": {
            "text/plain": [
              "                              id        class segmentation\n",
              "0       case123_day20_slice_0001  large_bowel          NaN\n",
              "1       case123_day20_slice_0001  small_bowel          NaN\n",
              "2       case123_day20_slice_0001      stomach          NaN\n",
              "3       case123_day20_slice_0002  large_bowel          NaN\n",
              "4       case123_day20_slice_0002  small_bowel          NaN\n",
              "...                          ...          ...          ...\n",
              "115483    case30_day0_slice_0143  small_bowel          NaN\n",
              "115484    case30_day0_slice_0143      stomach          NaN\n",
              "115485    case30_day0_slice_0144  large_bowel          NaN\n",
              "115486    case30_day0_slice_0144  small_bowel          NaN\n",
              "115487    case30_day0_slice_0144      stomach          NaN\n",
              "\n",
              "[115488 rows x 3 columns]"
            ],
            "text/html": [
              "\n",
              "  <div id=\"df-1198c267-90c0-46b5-819c-b0f279499020\" class=\"colab-df-container\">\n",
              "    <div>\n",
              "<style scoped>\n",
              "    .dataframe tbody tr th:only-of-type {\n",
              "        vertical-align: middle;\n",
              "    }\n",
              "\n",
              "    .dataframe tbody tr th {\n",
              "        vertical-align: top;\n",
              "    }\n",
              "\n",
              "    .dataframe thead th {\n",
              "        text-align: right;\n",
              "    }\n",
              "</style>\n",
              "<table border=\"1\" class=\"dataframe\">\n",
              "  <thead>\n",
              "    <tr style=\"text-align: right;\">\n",
              "      <th></th>\n",
              "      <th>id</th>\n",
              "      <th>class</th>\n",
              "      <th>segmentation</th>\n",
              "    </tr>\n",
              "  </thead>\n",
              "  <tbody>\n",
              "    <tr>\n",
              "      <th>0</th>\n",
              "      <td>case123_day20_slice_0001</td>\n",
              "      <td>large_bowel</td>\n",
              "      <td>NaN</td>\n",
              "    </tr>\n",
              "    <tr>\n",
              "      <th>1</th>\n",
              "      <td>case123_day20_slice_0001</td>\n",
              "      <td>small_bowel</td>\n",
              "      <td>NaN</td>\n",
              "    </tr>\n",
              "    <tr>\n",
              "      <th>2</th>\n",
              "      <td>case123_day20_slice_0001</td>\n",
              "      <td>stomach</td>\n",
              "      <td>NaN</td>\n",
              "    </tr>\n",
              "    <tr>\n",
              "      <th>3</th>\n",
              "      <td>case123_day20_slice_0002</td>\n",
              "      <td>large_bowel</td>\n",
              "      <td>NaN</td>\n",
              "    </tr>\n",
              "    <tr>\n",
              "      <th>4</th>\n",
              "      <td>case123_day20_slice_0002</td>\n",
              "      <td>small_bowel</td>\n",
              "      <td>NaN</td>\n",
              "    </tr>\n",
              "    <tr>\n",
              "      <th>...</th>\n",
              "      <td>...</td>\n",
              "      <td>...</td>\n",
              "      <td>...</td>\n",
              "    </tr>\n",
              "    <tr>\n",
              "      <th>115483</th>\n",
              "      <td>case30_day0_slice_0143</td>\n",
              "      <td>small_bowel</td>\n",
              "      <td>NaN</td>\n",
              "    </tr>\n",
              "    <tr>\n",
              "      <th>115484</th>\n",
              "      <td>case30_day0_slice_0143</td>\n",
              "      <td>stomach</td>\n",
              "      <td>NaN</td>\n",
              "    </tr>\n",
              "    <tr>\n",
              "      <th>115485</th>\n",
              "      <td>case30_day0_slice_0144</td>\n",
              "      <td>large_bowel</td>\n",
              "      <td>NaN</td>\n",
              "    </tr>\n",
              "    <tr>\n",
              "      <th>115486</th>\n",
              "      <td>case30_day0_slice_0144</td>\n",
              "      <td>small_bowel</td>\n",
              "      <td>NaN</td>\n",
              "    </tr>\n",
              "    <tr>\n",
              "      <th>115487</th>\n",
              "      <td>case30_day0_slice_0144</td>\n",
              "      <td>stomach</td>\n",
              "      <td>NaN</td>\n",
              "    </tr>\n",
              "  </tbody>\n",
              "</table>\n",
              "<p>115488 rows × 3 columns</p>\n",
              "</div>\n",
              "    <div class=\"colab-df-buttons\">\n",
              "\n",
              "  <div class=\"colab-df-container\">\n",
              "    <button class=\"colab-df-convert\" onclick=\"convertToInteractive('df-1198c267-90c0-46b5-819c-b0f279499020')\"\n",
              "            title=\"Convert this dataframe to an interactive table.\"\n",
              "            style=\"display:none;\">\n",
              "\n",
              "  <svg xmlns=\"http://www.w3.org/2000/svg\" height=\"24px\" viewBox=\"0 -960 960 960\">\n",
              "    <path d=\"M120-120v-720h720v720H120Zm60-500h600v-160H180v160Zm220 220h160v-160H400v160Zm0 220h160v-160H400v160ZM180-400h160v-160H180v160Zm440 0h160v-160H620v160ZM180-180h160v-160H180v160Zm440 0h160v-160H620v160Z\"/>\n",
              "  </svg>\n",
              "    </button>\n",
              "\n",
              "  <style>\n",
              "    .colab-df-container {\n",
              "      display:flex;\n",
              "      gap: 12px;\n",
              "    }\n",
              "\n",
              "    .colab-df-convert {\n",
              "      background-color: #E8F0FE;\n",
              "      border: none;\n",
              "      border-radius: 50%;\n",
              "      cursor: pointer;\n",
              "      display: none;\n",
              "      fill: #1967D2;\n",
              "      height: 32px;\n",
              "      padding: 0 0 0 0;\n",
              "      width: 32px;\n",
              "    }\n",
              "\n",
              "    .colab-df-convert:hover {\n",
              "      background-color: #E2EBFA;\n",
              "      box-shadow: 0px 1px 2px rgba(60, 64, 67, 0.3), 0px 1px 3px 1px rgba(60, 64, 67, 0.15);\n",
              "      fill: #174EA6;\n",
              "    }\n",
              "\n",
              "    .colab-df-buttons div {\n",
              "      margin-bottom: 4px;\n",
              "    }\n",
              "\n",
              "    [theme=dark] .colab-df-convert {\n",
              "      background-color: #3B4455;\n",
              "      fill: #D2E3FC;\n",
              "    }\n",
              "\n",
              "    [theme=dark] .colab-df-convert:hover {\n",
              "      background-color: #434B5C;\n",
              "      box-shadow: 0px 1px 3px 1px rgba(0, 0, 0, 0.15);\n",
              "      filter: drop-shadow(0px 1px 2px rgba(0, 0, 0, 0.3));\n",
              "      fill: #FFFFFF;\n",
              "    }\n",
              "  </style>\n",
              "\n",
              "    <script>\n",
              "      const buttonEl =\n",
              "        document.querySelector('#df-1198c267-90c0-46b5-819c-b0f279499020 button.colab-df-convert');\n",
              "      buttonEl.style.display =\n",
              "        google.colab.kernel.accessAllowed ? 'block' : 'none';\n",
              "\n",
              "      async function convertToInteractive(key) {\n",
              "        const element = document.querySelector('#df-1198c267-90c0-46b5-819c-b0f279499020');\n",
              "        const dataTable =\n",
              "          await google.colab.kernel.invokeFunction('convertToInteractive',\n",
              "                                                    [key], {});\n",
              "        if (!dataTable) return;\n",
              "\n",
              "        const docLinkHtml = 'Like what you see? Visit the ' +\n",
              "          '<a target=\"_blank\" href=https://colab.research.google.com/notebooks/data_table.ipynb>data table notebook</a>'\n",
              "          + ' to learn more about interactive tables.';\n",
              "        element.innerHTML = '';\n",
              "        dataTable['output_type'] = 'display_data';\n",
              "        await google.colab.output.renderOutput(dataTable, element);\n",
              "        const docLink = document.createElement('div');\n",
              "        docLink.innerHTML = docLinkHtml;\n",
              "        element.appendChild(docLink);\n",
              "      }\n",
              "    </script>\n",
              "  </div>\n",
              "\n",
              "\n",
              "<div id=\"df-11945914-3164-46a7-967f-249576c6fcc2\">\n",
              "  <button class=\"colab-df-quickchart\" onclick=\"quickchart('df-11945914-3164-46a7-967f-249576c6fcc2')\"\n",
              "            title=\"Suggest charts\"\n",
              "            style=\"display:none;\">\n",
              "\n",
              "<svg xmlns=\"http://www.w3.org/2000/svg\" height=\"24px\"viewBox=\"0 0 24 24\"\n",
              "     width=\"24px\">\n",
              "    <g>\n",
              "        <path d=\"M19 3H5c-1.1 0-2 .9-2 2v14c0 1.1.9 2 2 2h14c1.1 0 2-.9 2-2V5c0-1.1-.9-2-2-2zM9 17H7v-7h2v7zm4 0h-2V7h2v10zm4 0h-2v-4h2v4z\"/>\n",
              "    </g>\n",
              "</svg>\n",
              "  </button>\n",
              "\n",
              "<style>\n",
              "  .colab-df-quickchart {\n",
              "      --bg-color: #E8F0FE;\n",
              "      --fill-color: #1967D2;\n",
              "      --hover-bg-color: #E2EBFA;\n",
              "      --hover-fill-color: #174EA6;\n",
              "      --disabled-fill-color: #AAA;\n",
              "      --disabled-bg-color: #DDD;\n",
              "  }\n",
              "\n",
              "  [theme=dark] .colab-df-quickchart {\n",
              "      --bg-color: #3B4455;\n",
              "      --fill-color: #D2E3FC;\n",
              "      --hover-bg-color: #434B5C;\n",
              "      --hover-fill-color: #FFFFFF;\n",
              "      --disabled-bg-color: #3B4455;\n",
              "      --disabled-fill-color: #666;\n",
              "  }\n",
              "\n",
              "  .colab-df-quickchart {\n",
              "    background-color: var(--bg-color);\n",
              "    border: none;\n",
              "    border-radius: 50%;\n",
              "    cursor: pointer;\n",
              "    display: none;\n",
              "    fill: var(--fill-color);\n",
              "    height: 32px;\n",
              "    padding: 0;\n",
              "    width: 32px;\n",
              "  }\n",
              "\n",
              "  .colab-df-quickchart:hover {\n",
              "    background-color: var(--hover-bg-color);\n",
              "    box-shadow: 0 1px 2px rgba(60, 64, 67, 0.3), 0 1px 3px 1px rgba(60, 64, 67, 0.15);\n",
              "    fill: var(--button-hover-fill-color);\n",
              "  }\n",
              "\n",
              "  .colab-df-quickchart-complete:disabled,\n",
              "  .colab-df-quickchart-complete:disabled:hover {\n",
              "    background-color: var(--disabled-bg-color);\n",
              "    fill: var(--disabled-fill-color);\n",
              "    box-shadow: none;\n",
              "  }\n",
              "\n",
              "  .colab-df-spinner {\n",
              "    border: 2px solid var(--fill-color);\n",
              "    border-color: transparent;\n",
              "    border-bottom-color: var(--fill-color);\n",
              "    animation:\n",
              "      spin 1s steps(1) infinite;\n",
              "  }\n",
              "\n",
              "  @keyframes spin {\n",
              "    0% {\n",
              "      border-color: transparent;\n",
              "      border-bottom-color: var(--fill-color);\n",
              "      border-left-color: var(--fill-color);\n",
              "    }\n",
              "    20% {\n",
              "      border-color: transparent;\n",
              "      border-left-color: var(--fill-color);\n",
              "      border-top-color: var(--fill-color);\n",
              "    }\n",
              "    30% {\n",
              "      border-color: transparent;\n",
              "      border-left-color: var(--fill-color);\n",
              "      border-top-color: var(--fill-color);\n",
              "      border-right-color: var(--fill-color);\n",
              "    }\n",
              "    40% {\n",
              "      border-color: transparent;\n",
              "      border-right-color: var(--fill-color);\n",
              "      border-top-color: var(--fill-color);\n",
              "    }\n",
              "    60% {\n",
              "      border-color: transparent;\n",
              "      border-right-color: var(--fill-color);\n",
              "    }\n",
              "    80% {\n",
              "      border-color: transparent;\n",
              "      border-right-color: var(--fill-color);\n",
              "      border-bottom-color: var(--fill-color);\n",
              "    }\n",
              "    90% {\n",
              "      border-color: transparent;\n",
              "      border-bottom-color: var(--fill-color);\n",
              "    }\n",
              "  }\n",
              "</style>\n",
              "\n",
              "  <script>\n",
              "    async function quickchart(key) {\n",
              "      const quickchartButtonEl =\n",
              "        document.querySelector('#' + key + ' button');\n",
              "      quickchartButtonEl.disabled = true;  // To prevent multiple clicks.\n",
              "      quickchartButtonEl.classList.add('colab-df-spinner');\n",
              "      try {\n",
              "        const charts = await google.colab.kernel.invokeFunction(\n",
              "            'suggestCharts', [key], {});\n",
              "      } catch (error) {\n",
              "        console.error('Error during call to suggestCharts:', error);\n",
              "      }\n",
              "      quickchartButtonEl.classList.remove('colab-df-spinner');\n",
              "      quickchartButtonEl.classList.add('colab-df-quickchart-complete');\n",
              "    }\n",
              "    (() => {\n",
              "      let quickchartButtonEl =\n",
              "        document.querySelector('#df-11945914-3164-46a7-967f-249576c6fcc2 button');\n",
              "      quickchartButtonEl.style.display =\n",
              "        google.colab.kernel.accessAllowed ? 'block' : 'none';\n",
              "    })();\n",
              "  </script>\n",
              "</div>\n",
              "    </div>\n",
              "  </div>\n"
            ]
          },
          "metadata": {},
          "execution_count": 13
        }
      ]
    },
    {
      "cell_type": "code",
      "source": [
        "def rle_to_mask(rle, shape):\n",
        "    mask = np.zeros(shape, dtype=np.uint8)\n",
        "    rle_pairs = rle.split()\n",
        "    starts = [int(x) - 1 for x in rle_pairs[0::2]]  # Subtract 1 to convert to 0-based indexing\n",
        "    lengths = [int(x) for x in rle_pairs[1::2]]\n",
        "\n",
        "    for start, length in zip(starts, lengths):\n",
        "        end = start + length\n",
        "        mask_flat = mask.reshape(-1)\n",
        "        mask_flat[start:end] = 1\n",
        "\n",
        "    return mask\n",
        "\n",
        "# Example usage\n",
        "rle_encoded = t['segmentation'][12000]\n",
        "image_shape = (310, 360)  # Shape of the image or mask\n",
        "\n",
        "mask = rle_to_mask(rle_encoded, image_shape)\n",
        "\n",
        "# Save the mask as an image\n",
        "mask_image = Image.fromarray(mask * 255)  # Scale the mask values from [0, 1] to [0, 255]\n",
        "mask_image"
      ],
      "metadata": {
        "id": "3cWRjOXSjott",
        "colab": {
          "base_uri": "https://localhost:8080/",
          "height": 327
        },
        "outputId": "8d524839-9356-4170-86f9-1ebabd44b1f9"
      },
      "execution_count": 14,
      "outputs": [
        {
          "output_type": "execute_result",
          "data": {
            "text/plain": [
              "<PIL.Image.Image image mode=L size=360x310>"
            ],
            "image/png": "[encoded data removed]"
          },
          "metadata": {},
          "execution_count": 14
        }
      ]
    },
    {
      "cell_type": "code",
      "source": [
        "class CleanData():\n",
        "  def __init__(self, csv_address):\n",
        "\n",
        "    self.csv_info = pd.read_csv(csv_address)\n",
        "\n",
        "  def forward(self, text_case_address):\n",
        "\n",
        "    csv_file = self.new_csv_info(text_case_address)\n",
        "    return csv_file\n",
        "\n",
        "  def rle_to_mask(self, rle : str, shape: tuple, seg_cls: int):\n",
        "    mask = np.zeros(shape, dtype=np.uint8)\n",
        "    rle_pairs = rle.split()\n",
        "    starts = [int(x) - 1 for x in rle_pairs[0::2]]  # Subtract 1 to convert to 0-based indexing\n",
        "    lengths = [int(x) for x in rle_pairs[1::2]]\n",
        "\n",
        "    for start, length in zip(starts, lengths):\n",
        "        end = start + length\n",
        "        mask_flat = mask.reshape(-1)\n",
        "        mask_flat[start:end] = seg_cls\n",
        "\n",
        "    mask = torch.tensor(mask)\n",
        "    return mask\n",
        "\n",
        "  def new_csv_info(self, text_case_address):\n",
        "    cases = np.loadtxt(text_case_address, dtype = str).tolist()\n",
        "    address = []\n",
        "    for case_n in cases:\n",
        "      case_plus_day = os.listdir(f'/content/train/{case_n}/')\n",
        "      for cpd in case_plus_day:\n",
        "        im_add = os.listdir(f'/content/train/{case_n}/{cpd}/scans/')\n",
        "        for im in im_add:\n",
        "          address.append(f'/content/train/{case_n}/{cpd}/scans/{im}')\n",
        "\n",
        "    new_csv = []\n",
        "    c = 0\n",
        "    for i, id in enumerate(self.csv_info['id']):\n",
        "      id = id.split('_')\n",
        "      for add in address:\n",
        "        if f'{id[0]}_{id[1]}' in add and id[3] in add:\n",
        "          cls = 0\n",
        "          if str(self.csv_info['segmentation'][i]) == 'nan':\n",
        "            cls = 0\n",
        "          else:\n",
        "            if self.csv_info['class'][i] == 'large_bowel':\n",
        "              cls = 1\n",
        "            elif self.csv_info['class'][i] == 'small_bowel':\n",
        "              cls = 2\n",
        "            else:\n",
        "              cls = 3\n",
        "\n",
        "          shape = (int(add.split('_')[4]), int(add.split('_')[3]))\n",
        "          new_csv.append([add, self.csv_info['id'][i], cls, self.csv_info['segmentation'][i], shape])\n",
        "\n",
        "    new_csv = pd.DataFrame(np.array(new_csv), columns = ['Image Address', 'ID', 'Class', 'Segmentation', 'Shape'])\n",
        "\n",
        "    print('csv file created!')\n",
        "\n",
        "    return new_csv"
      ],
      "metadata": {
        "id": "J5XTNfTF85Xd"
      },
      "execution_count": 15,
      "outputs": []
    },
    {
      "cell_type": "code",
      "source": [
        "clean = CleanData('train.csv')"
      ],
      "metadata": {
        "id": "g9DkFYlcN2In"
      },
      "execution_count": 16,
      "outputs": []
    },
    {
      "cell_type": "code",
      "source": [
        "ans = input('do you have csv file for train, validation and test: (yes or no)')\n",
        "if ans == 'yes':\n",
        "  train_csv = pd.read_csv('train_info.csv')\n",
        "  valid_csv = pd.read_csv('valid_info.csv')\n",
        "  test_csv  = pd.read_csv('test_info.csv')\n",
        "\n",
        "if ans == 'no':\n",
        "  train_csv = clean.forward('train.txt')\n",
        "  valid_csv = clean.forward('validation.txt')\n",
        "  test_csv  = clean.forward('test.txt')\n",
        "\n",
        "  train_csv.to_csv('train_info.csv')\n",
        "  valid_csv.to_csv('valid_info.csv')\n",
        "  test_csv.to_csv('test_info.csv')"
      ],
      "metadata": {
        "colab": {
          "base_uri": "https://localhost:8080/"
        },
        "id": "7zcD9guHN3_V",
        "outputId": "1af156a2-6daa-42d0-aa6b-f19f36a8bd0a"
      },
      "execution_count": 56,
      "outputs": [
        {
          "name": "stdout",
          "output_type": "stream",
          "text": [
            "do you have csv file for train, validation and test: (yes or no)yes\n"
          ]
        }
      ]
    },
    {
      "cell_type": "code",
      "source": [
        "print(f'train size      : {train_csv.shape[0]}')\n",
        "print(f'validation size : {valid_csv.shape[0]}')\n",
        "print(f'test size       : {test_csv.shape[0]}')\n",
        "print(f'total           : {train_csv.shape[0] + valid_csv.shape[0] + test_csv.shape[0]}')"
      ],
      "metadata": {
        "colab": {
          "base_uri": "https://localhost:8080/"
        },
        "id": "4-J5QpjBmsV2",
        "outputId": "8b6b3fa7-fce5-4fd5-a7fb-cd50723c4400"
      },
      "execution_count": 46,
      "outputs": [
        {
          "output_type": "stream",
          "name": "stdout",
          "text": [
            "train size      : 82320\n",
            "validation size : 9504\n",
            "test size       : 23664\n",
            "total           : 115488\n"
          ]
        }
      ]
    },
    {
      "cell_type": "markdown",
      "source": [
        "## 🔵 **EDA**"
      ],
      "metadata": {
        "id": "0Fh0Rphov7XX"
      }
    },
    {
      "cell_type": "code",
      "source": [
        "train_csv.iloc[1995:1998]"
      ],
      "metadata": {
        "colab": {
          "base_uri": "https://localhost:8080/",
          "height": 143
        },
        "id": "Kgzzdjw2wOtS",
        "outputId": "498c3264-478b-4cc7-9e47-33e6c07d87bf"
      },
      "execution_count": 19,
      "outputs": [
        {
          "output_type": "execute_result",
          "data": {
            "text/plain": [
              "      Unnamed: 0                                      Image Address  \\\n",
              "1995        1995  /content/train/case129/case129_day27/scans/sli...   \n",
              "1996        1996  /content/train/case129/case129_day27/scans/sli...   \n",
              "1997        1997  /content/train/case129/case129_day27/scans/sli...   \n",
              "\n",
              "                            ID  Class  \\\n",
              "1995  case129_day27_slice_0090      1   \n",
              "1996  case129_day27_slice_0090      2   \n",
              "1997  case129_day27_slice_0090      3   \n",
              "\n",
              "                                           Segmentation       Shape  \n",
              "1995  45928 8 46286 11 46644 13 47003 15 47362 16 47...  (310, 360)  \n",
              "1996  38324 10 38681 15 39039 19 39397 22 39728 3 39...  (310, 360)  \n",
              "1997  38662 2 39021 4 39380 6 39740 6 40100 6 40460 ...  (310, 360)  "
            ],
            "text/html": [
              "\n",
              "  <div id=\"df-2a1b8ac7-48ce-4258-8530-5f49c5e55075\" class=\"colab-df-container\">\n",
              "    <div>\n",
              "<style scoped>\n",
              "    .dataframe tbody tr th:only-of-type {\n",
              "        vertical-align: middle;\n",
              "    }\n",
              "\n",
              "    .dataframe tbody tr th {\n",
              "        vertical-align: top;\n",
              "    }\n",
              "\n",
              "    .dataframe thead th {\n",
              "        text-align: right;\n",
              "    }\n",
              "</style>\n",
              "<table border=\"1\" class=\"dataframe\">\n",
              "  <thead>\n",
              "    <tr style=\"text-align: right;\">\n",
              "      <th></th>\n",
              "      <th>Unnamed: 0</th>\n",
              "      <th>Image Address</th>\n",
              "      <th>ID</th>\n",
              "      <th>Class</th>\n",
              "      <th>Segmentation</th>\n",
              "      <th>Shape</th>\n",
              "    </tr>\n",
              "  </thead>\n",
              "  <tbody>\n",
              "    <tr>\n",
              "      <th>1995</th>\n",
              "      <td>1995</td>\n",
              "      <td>/content/train/case129/case129_day27/scans/sli...</td>\n",
              "      <td>case129_day27_slice_0090</td>\n",
              "      <td>1</td>\n",
              "      <td>45928 8 46286 11 46644 13 47003 15 47362 16 47...</td>\n",
              "      <td>(310, 360)</td>\n",
              "    </tr>\n",
              "    <tr>\n",
              "      <th>1996</th>\n",
              "      <td>1996</td>\n",
              "      <td>/content/train/case129/case129_day27/scans/sli...</td>\n",
              "      <td>case129_day27_slice_0090</td>\n",
              "      <td>2</td>\n",
              "      <td>38324 10 38681 15 39039 19 39397 22 39728 3 39...</td>\n",
              "      <td>(310, 360)</td>\n",
              "    </tr>\n",
              "    <tr>\n",
              "      <th>1997</th>\n",
              "      <td>1997</td>\n",
              "      <td>/content/train/case129/case129_day27/scans/sli...</td>\n",
              "      <td>case129_day27_slice_0090</td>\n",
              "      <td>3</td>\n",
              "      <td>38662 2 39021 4 39380 6 39740 6 40100 6 40460 ...</td>\n",
              "      <td>(310, 360)</td>\n",
              "    </tr>\n",
              "  </tbody>\n",
              "</table>\n",
              "</div>\n",
              "    <div class=\"colab-df-buttons\">\n",
              "\n",
              "  <div class=\"colab-df-container\">\n",
              "    <button class=\"colab-df-convert\" onclick=\"convertToInteractive('df-2a1b8ac7-48ce-4258-8530-5f49c5e55075')\"\n",
              "            title=\"Convert this dataframe to an interactive table.\"\n",
              "            style=\"display:none;\">\n",
              "\n",
              "  <svg xmlns=\"http://www.w3.org/2000/svg\" height=\"24px\" viewBox=\"0 -960 960 960\">\n",
              "    <path d=\"M120-120v-720h720v720H120Zm60-500h600v-160H180v160Zm220 220h160v-160H400v160Zm0 220h160v-160H400v160ZM180-400h160v-160H180v160Zm440 0h160v-160H620v160ZM180-180h160v-160H180v160Zm440 0h160v-160H620v160Z\"/>\n",
              "  </svg>\n",
              "    </button>\n",
              "\n",
              "  <style>\n",
              "    .colab-df-container {\n",
              "      display:flex;\n",
              "      gap: 12px;\n",
              "    }\n",
              "\n",
              "    .colab-df-convert {\n",
              "      background-color: #E8F0FE;\n",
              "      border: none;\n",
              "      border-radius: 50%;\n",
              "      cursor: pointer;\n",
              "      display: none;\n",
              "      fill: #1967D2;\n",
              "      height: 32px;\n",
              "      padding: 0 0 0 0;\n",
              "      width: 32px;\n",
              "    }\n",
              "\n",
              "    .colab-df-convert:hover {\n",
              "      background-color: #E2EBFA;\n",
              "      box-shadow: 0px 1px 2px rgba(60, 64, 67, 0.3), 0px 1px 3px 1px rgba(60, 64, 67, 0.15);\n",
              "      fill: #174EA6;\n",
              "    }\n",
              "\n",
              "    .colab-df-buttons div {\n",
              "      margin-bottom: 4px;\n",
              "    }\n",
              "\n",
              "    [theme=dark] .colab-df-convert {\n",
              "      background-color: #3B4455;\n",
              "      fill: #D2E3FC;\n",
              "    }\n",
              "\n",
              "    [theme=dark] .colab-df-convert:hover {\n",
              "      background-color: #434B5C;\n",
              "      box-shadow: 0px 1px 3px 1px rgba(0, 0, 0, 0.15);\n",
              "      filter: drop-shadow(0px 1px 2px rgba(0, 0, 0, 0.3));\n",
              "      fill: #FFFFFF;\n",
              "    }\n",
              "  </style>\n",
              "\n",
              "    <script>\n",
              "      const buttonEl =\n",
              "        document.querySelector('#df-2a1b8ac7-48ce-4258-8530-5f49c5e55075 button.colab-df-convert');\n",
              "      buttonEl.style.display =\n",
              "        google.colab.kernel.accessAllowed ? 'block' : 'none';\n",
              "\n",
              "      async function convertToInteractive(key) {\n",
              "        const element = document.querySelector('#df-2a1b8ac7-48ce-4258-8530-5f49c5e55075');\n",
              "        const dataTable =\n",
              "          await google.colab.kernel.invokeFunction('convertToInteractive',\n",
              "                                                    [key], {});\n",
              "        if (!dataTable) return;\n",
              "\n",
              "        const docLinkHtml = 'Like what you see? Visit the ' +\n",
              "          '<a target=\"_blank\" href=https://colab.research.google.com/notebooks/data_table.ipynb>data table notebook</a>'\n",
              "          + ' to learn more about interactive tables.';\n",
              "        element.innerHTML = '';\n",
              "        dataTable['output_type'] = 'display_data';\n",
              "        await google.colab.output.renderOutput(dataTable, element);\n",
              "        const docLink = document.createElement('div');\n",
              "        docLink.innerHTML = docLinkHtml;\n",
              "        element.appendChild(docLink);\n",
              "      }\n",
              "    </script>\n",
              "  </div>\n",
              "\n",
              "\n",
              "<div id=\"df-87e0f664-0758-4c12-bdbb-27295f85c259\">\n",
              "  <button class=\"colab-df-quickchart\" onclick=\"quickchart('df-87e0f664-0758-4c12-bdbb-27295f85c259')\"\n",
              "            title=\"Suggest charts\"\n",
              "            style=\"display:none;\">\n",
              "\n",
              "<svg xmlns=\"http://www.w3.org/2000/svg\" height=\"24px\"viewBox=\"0 0 24 24\"\n",
              "     width=\"24px\">\n",
              "    <g>\n",
              "        <path d=\"M19 3H5c-1.1 0-2 .9-2 2v14c0 1.1.9 2 2 2h14c1.1 0 2-.9 2-2V5c0-1.1-.9-2-2-2zM9 17H7v-7h2v7zm4 0h-2V7h2v10zm4 0h-2v-4h2v4z\"/>\n",
              "    </g>\n",
              "</svg>\n",
              "  </button>\n",
              "\n",
              "<style>\n",
              "  .colab-df-quickchart {\n",
              "      --bg-color: #E8F0FE;\n",
              "      --fill-color: #1967D2;\n",
              "      --hover-bg-color: #E2EBFA;\n",
              "      --hover-fill-color: #174EA6;\n",
              "      --disabled-fill-color: #AAA;\n",
              "      --disabled-bg-color: #DDD;\n",
              "  }\n",
              "\n",
              "  [theme=dark] .colab-df-quickchart {\n",
              "      --bg-color: #3B4455;\n",
              "      --fill-color: #D2E3FC;\n",
              "      --hover-bg-color: #434B5C;\n",
              "      --hover-fill-color: #FFFFFF;\n",
              "      --disabled-bg-color: #3B4455;\n",
              "      --disabled-fill-color: #666;\n",
              "  }\n",
              "\n",
              "  .colab-df-quickchart {\n",
              "    background-color: var(--bg-color);\n",
              "    border: none;\n",
              "    border-radius: 50%;\n",
              "    cursor: pointer;\n",
              "    display: none;\n",
              "    fill: var(--fill-color);\n",
              "    height: 32px;\n",
              "    padding: 0;\n",
              "    width: 32px;\n",
              "  }\n",
              "\n",
              "  .colab-df-quickchart:hover {\n",
              "    background-color: var(--hover-bg-color);\n",
              "    box-shadow: 0 1px 2px rgba(60, 64, 67, 0.3), 0 1px 3px 1px rgba(60, 64, 67, 0.15);\n",
              "    fill: var(--button-hover-fill-color);\n",
              "  }\n",
              "\n",
              "  .colab-df-quickchart-complete:disabled,\n",
              "  .colab-df-quickchart-complete:disabled:hover {\n",
              "    background-color: var(--disabled-bg-color);\n",
              "    fill: var(--disabled-fill-color);\n",
              "    box-shadow: none;\n",
              "  }\n",
              "\n",
              "  .colab-df-spinner {\n",
              "    border: 2px solid var(--fill-color);\n",
              "    border-color: transparent;\n",
              "    border-bottom-color: var(--fill-color);\n",
              "    animation:\n",
              "      spin 1s steps(1) infinite;\n",
              "  }\n",
              "\n",
              "  @keyframes spin {\n",
              "    0% {\n",
              "      border-color: transparent;\n",
              "      border-bottom-color: var(--fill-color);\n",
              "      border-left-color: var(--fill-color);\n",
              "    }\n",
              "    20% {\n",
              "      border-color: transparent;\n",
              "      border-left-color: var(--fill-color);\n",
              "      border-top-color: var(--fill-color);\n",
              "    }\n",
              "    30% {\n",
              "      border-color: transparent;\n",
              "      border-left-color: var(--fill-color);\n",
              "      border-top-color: var(--fill-color);\n",
              "      border-right-color: var(--fill-color);\n",
              "    }\n",
              "    40% {\n",
              "      border-color: transparent;\n",
              "      border-right-color: var(--fill-color);\n",
              "      border-top-color: var(--fill-color);\n",
              "    }\n",
              "    60% {\n",
              "      border-color: transparent;\n",
              "      border-right-color: var(--fill-color);\n",
              "    }\n",
              "    80% {\n",
              "      border-color: transparent;\n",
              "      border-right-color: var(--fill-color);\n",
              "      border-bottom-color: var(--fill-color);\n",
              "    }\n",
              "    90% {\n",
              "      border-color: transparent;\n",
              "      border-bottom-color: var(--fill-color);\n",
              "    }\n",
              "  }\n",
              "</style>\n",
              "\n",
              "  <script>\n",
              "    async function quickchart(key) {\n",
              "      const quickchartButtonEl =\n",
              "        document.querySelector('#' + key + ' button');\n",
              "      quickchartButtonEl.disabled = true;  // To prevent multiple clicks.\n",
              "      quickchartButtonEl.classList.add('colab-df-spinner');\n",
              "      try {\n",
              "        const charts = await google.colab.kernel.invokeFunction(\n",
              "            'suggestCharts', [key], {});\n",
              "      } catch (error) {\n",
              "        console.error('Error during call to suggestCharts:', error);\n",
              "      }\n",
              "      quickchartButtonEl.classList.remove('colab-df-spinner');\n",
              "      quickchartButtonEl.classList.add('colab-df-quickchart-complete');\n",
              "    }\n",
              "    (() => {\n",
              "      let quickchartButtonEl =\n",
              "        document.querySelector('#df-87e0f664-0758-4c12-bdbb-27295f85c259 button');\n",
              "      quickchartButtonEl.style.display =\n",
              "        google.colab.kernel.accessAllowed ? 'block' : 'none';\n",
              "    })();\n",
              "  </script>\n",
              "</div>\n",
              "    </div>\n",
              "  </div>\n"
            ]
          },
          "metadata": {},
          "execution_count": 19
        }
      ]
    },
    {
      "cell_type": "code",
      "source": [
        "csv_to_show = train_csv.dropna().reset_index().drop(['index', 'Unnamed: 0'], axis = 1)"
      ],
      "metadata": {
        "id": "YyWYw-tPEpV5"
      },
      "execution_count": 20,
      "outputs": []
    },
    {
      "cell_type": "code",
      "source": [
        "csv_to_show"
      ],
      "metadata": {
        "colab": {
          "base_uri": "https://localhost:8080/",
          "height": 423
        },
        "id": "QqRIcIuvF9vo",
        "outputId": "7601189d-2185-4d91-f533-3b043eff6a2e"
      },
      "execution_count": 21,
      "outputs": [
        {
          "output_type": "execute_result",
          "data": {
            "text/plain": [
              "                                           Image Address  \\\n",
              "0      /content/train/case129/case129_day20/scans/sli...   \n",
              "1      /content/train/case129/case129_day20/scans/sli...   \n",
              "2      /content/train/case129/case129_day20/scans/sli...   \n",
              "3      /content/train/case129/case129_day20/scans/sli...   \n",
              "4      /content/train/case129/case129_day20/scans/sli...   \n",
              "...                                                  ...   \n",
              "24519  /content/train/case30/case30_day0/scans/slice_...   \n",
              "24520  /content/train/case30/case30_day0/scans/slice_...   \n",
              "24521  /content/train/case30/case30_day0/scans/slice_...   \n",
              "24522  /content/train/case30/case30_day0/scans/slice_...   \n",
              "24523  /content/train/case30/case30_day0/scans/slice_...   \n",
              "\n",
              "                             ID  Class  \\\n",
              "0      case129_day20_slice_0047      1   \n",
              "1      case129_day20_slice_0047      3   \n",
              "2      case129_day20_slice_0048      1   \n",
              "3      case129_day20_slice_0048      3   \n",
              "4      case129_day20_slice_0049      1   \n",
              "...                         ...    ...   \n",
              "24519    case30_day0_slice_0135      2   \n",
              "24520    case30_day0_slice_0136      1   \n",
              "24521    case30_day0_slice_0136      2   \n",
              "24522    case30_day0_slice_0137      1   \n",
              "24523    case30_day0_slice_0137      2   \n",
              "\n",
              "                                            Segmentation       Shape  \n",
              "0      54203 2 54559 8 54918 10 55277 12 55636 13 559...  (310, 360)  \n",
              "1      60663 4 61021 8 61379 11 61737 14 62095 16 624...  (310, 360)  \n",
              "2      52760 4 53118 8 53477 10 53836 13 54196 14 545...  (310, 360)  \n",
              "3      59224 7 59581 11 59939 14 60298 16 60656 19 61...  (310, 360)  \n",
              "4      52039 5 52397 9 52756 12 53115 14 53474 16 538...  (310, 360)  \n",
              "...                                                  ...         ...  \n",
              "24519  22540 1 22804 5 23069 7 23334 10 23600 11 2386...  (266, 266)  \n",
              "24520  18746 7 19009 23 19038 7 19273 44 19537 49 198...  (266, 266)  \n",
              "24521  23079 1 23343 6 23608 9 23874 11 24139 13 2440...  (266, 266)  \n",
              "24522  18746 2 19010 8 19040 3 19274 25 19302 12 1953...  (266, 266)  \n",
              "24523  21457 6 21722 10 21987 15 22252 18 22517 21 22...  (266, 266)  \n",
              "\n",
              "[24524 rows x 5 columns]"
            ],
            "text/html": [
              "\n",
              "  <div id=\"df-cdefa4de-cb15-42b5-a4de-533b71d2d0eb\" class=\"colab-df-container\">\n",
              "    <div>\n",
              "<style scoped>\n",
              "    .dataframe tbody tr th:only-of-type {\n",
              "        vertical-align: middle;\n",
              "    }\n",
              "\n",
              "    .dataframe tbody tr th {\n",
              "        vertical-align: top;\n",
              "    }\n",
              "\n",
              "    .dataframe thead th {\n",
              "        text-align: right;\n",
              "    }\n",
              "</style>\n",
              "<table border=\"1\" class=\"dataframe\">\n",
              "  <thead>\n",
              "    <tr style=\"text-align: right;\">\n",
              "      <th></th>\n",
              "      <th>Image Address</th>\n",
              "      <th>ID</th>\n",
              "      <th>Class</th>\n",
              "      <th>Segmentation</th>\n",
              "      <th>Shape</th>\n",
              "    </tr>\n",
              "  </thead>\n",
              "  <tbody>\n",
              "    <tr>\n",
              "      <th>0</th>\n",
              "      <td>/content/train/case129/case129_day20/scans/sli...</td>\n",
              "      <td>case129_day20_slice_0047</td>\n",
              "      <td>1</td>\n",
              "      <td>54203 2 54559 8 54918 10 55277 12 55636 13 559...</td>\n",
              "      <td>(310, 360)</td>\n",
              "    </tr>\n",
              "    <tr>\n",
              "      <th>1</th>\n",
              "      <td>/content/train/case129/case129_day20/scans/sli...</td>\n",
              "      <td>case129_day20_slice_0047</td>\n",
              "      <td>3</td>\n",
              "      <td>60663 4 61021 8 61379 11 61737 14 62095 16 624...</td>\n",
              "      <td>(310, 360)</td>\n",
              "    </tr>\n",
              "    <tr>\n",
              "      <th>2</th>\n",
              "      <td>/content/train/case129/case129_day20/scans/sli...</td>\n",
              "      <td>case129_day20_slice_0048</td>\n",
              "      <td>1</td>\n",
              "      <td>52760 4 53118 8 53477 10 53836 13 54196 14 545...</td>\n",
              "      <td>(310, 360)</td>\n",
              "    </tr>\n",
              "    <tr>\n",
              "      <th>3</th>\n",
              "      <td>/content/train/case129/case129_day20/scans/sli...</td>\n",
              "      <td>case129_day20_slice_0048</td>\n",
              "      <td>3</td>\n",
              "      <td>59224 7 59581 11 59939 14 60298 16 60656 19 61...</td>\n",
              "      <td>(310, 360)</td>\n",
              "    </tr>\n",
              "    <tr>\n",
              "      <th>4</th>\n",
              "      <td>/content/train/case129/case129_day20/scans/sli...</td>\n",
              "      <td>case129_day20_slice_0049</td>\n",
              "      <td>1</td>\n",
              "      <td>52039 5 52397 9 52756 12 53115 14 53474 16 538...</td>\n",
              "      <td>(310, 360)</td>\n",
              "    </tr>\n",
              "    <tr>\n",
              "      <th>...</th>\n",
              "      <td>...</td>\n",
              "      <td>...</td>\n",
              "      <td>...</td>\n",
              "      <td>...</td>\n",
              "      <td>...</td>\n",
              "    </tr>\n",
              "    <tr>\n",
              "      <th>24519</th>\n",
              "      <td>/content/train/case30/case30_day0/scans/slice_...</td>\n",
              "      <td>case30_day0_slice_0135</td>\n",
              "      <td>2</td>\n",
              "      <td>22540 1 22804 5 23069 7 23334 10 23600 11 2386...</td>\n",
              "      <td>(266, 266)</td>\n",
              "    </tr>\n",
              "    <tr>\n",
              "      <th>24520</th>\n",
              "      <td>/content/train/case30/case30_day0/scans/slice_...</td>\n",
              "      <td>case30_day0_slice_0136</td>\n",
              "      <td>1</td>\n",
              "      <td>18746 7 19009 23 19038 7 19273 44 19537 49 198...</td>\n",
              "      <td>(266, 266)</td>\n",
              "    </tr>\n",
              "    <tr>\n",
              "      <th>24521</th>\n",
              "      <td>/content/train/case30/case30_day0/scans/slice_...</td>\n",
              "      <td>case30_day0_slice_0136</td>\n",
              "      <td>2</td>\n",
              "      <td>23079 1 23343 6 23608 9 23874 11 24139 13 2440...</td>\n",
              "      <td>(266, 266)</td>\n",
              "    </tr>\n",
              "    <tr>\n",
              "      <th>24522</th>\n",
              "      <td>/content/train/case30/case30_day0/scans/slice_...</td>\n",
              "      <td>case30_day0_slice_0137</td>\n",
              "      <td>1</td>\n",
              "      <td>18746 2 19010 8 19040 3 19274 25 19302 12 1953...</td>\n",
              "      <td>(266, 266)</td>\n",
              "    </tr>\n",
              "    <tr>\n",
              "      <th>24523</th>\n",
              "      <td>/content/train/case30/case30_day0/scans/slice_...</td>\n",
              "      <td>case30_day0_slice_0137</td>\n",
              "      <td>2</td>\n",
              "      <td>21457 6 21722 10 21987 15 22252 18 22517 21 22...</td>\n",
              "      <td>(266, 266)</td>\n",
              "    </tr>\n",
              "  </tbody>\n",
              "</table>\n",
              "<p>24524 rows × 5 columns</p>\n",
              "</div>\n",
              "    <div class=\"colab-df-buttons\">\n",
              "\n",
              "  <div class=\"colab-df-container\">\n",
              "    <button class=\"colab-df-convert\" onclick=\"convertToInteractive('df-cdefa4de-cb15-42b5-a4de-533b71d2d0eb')\"\n",
              "            title=\"Convert this dataframe to an interactive table.\"\n",
              "            style=\"display:none;\">\n",
              "\n",
              "  <svg xmlns=\"http://www.w3.org/2000/svg\" height=\"24px\" viewBox=\"0 -960 960 960\">\n",
              "    <path d=\"M120-120v-720h720v720H120Zm60-500h600v-160H180v160Zm220 220h160v-160H400v160Zm0 220h160v-160H400v160ZM180-400h160v-160H180v160Zm440 0h160v-160H620v160ZM180-180h160v-160H180v160Zm440 0h160v-160H620v160Z\"/>\n",
              "  </svg>\n",
              "    </button>\n",
              "\n",
              "  <style>\n",
              "    .colab-df-container {\n",
              "      display:flex;\n",
              "      gap: 12px;\n",
              "    }\n",
              "\n",
              "    .colab-df-convert {\n",
              "      background-color: #E8F0FE;\n",
              "      border: none;\n",
              "      border-radius: 50%;\n",
              "      cursor: pointer;\n",
              "      display: none;\n",
              "      fill: #1967D2;\n",
              "      height: 32px;\n",
              "      padding: 0 0 0 0;\n",
              "      width: 32px;\n",
              "    }\n",
              "\n",
              "    .colab-df-convert:hover {\n",
              "      background-color: #E2EBFA;\n",
              "      box-shadow: 0px 1px 2px rgba(60, 64, 67, 0.3), 0px 1px 3px 1px rgba(60, 64, 67, 0.15);\n",
              "      fill: #174EA6;\n",
              "    }\n",
              "\n",
              "    .colab-df-buttons div {\n",
              "      margin-bottom: 4px;\n",
              "    }\n",
              "\n",
              "    [theme=dark] .colab-df-convert {\n",
              "      background-color: #3B4455;\n",
              "      fill: #D2E3FC;\n",
              "    }\n",
              "\n",
              "    [theme=dark] .colab-df-convert:hover {\n",
              "      background-color: #434B5C;\n",
              "      box-shadow: 0px 1px 3px 1px rgba(0, 0, 0, 0.15);\n",
              "      filter: drop-shadow(0px 1px 2px rgba(0, 0, 0, 0.3));\n",
              "      fill: #FFFFFF;\n",
              "    }\n",
              "  </style>\n",
              "\n",
              "    <script>\n",
              "      const buttonEl =\n",
              "        document.querySelector('#df-cdefa4de-cb15-42b5-a4de-533b71d2d0eb button.colab-df-convert');\n",
              "      buttonEl.style.display =\n",
              "        google.colab.kernel.accessAllowed ? 'block' : 'none';\n",
              "\n",
              "      async function convertToInteractive(key) {\n",
              "        const element = document.querySelector('#df-cdefa4de-cb15-42b5-a4de-533b71d2d0eb');\n",
              "        const dataTable =\n",
              "          await google.colab.kernel.invokeFunction('convertToInteractive',\n",
              "                                                    [key], {});\n",
              "        if (!dataTable) return;\n",
              "\n",
              "        const docLinkHtml = 'Like what you see? Visit the ' +\n",
              "          '<a target=\"_blank\" href=https://colab.research.google.com/notebooks/data_table.ipynb>data table notebook</a>'\n",
              "          + ' to learn more about interactive tables.';\n",
              "        element.innerHTML = '';\n",
              "        dataTable['output_type'] = 'display_data';\n",
              "        await google.colab.output.renderOutput(dataTable, element);\n",
              "        const docLink = document.createElement('div');\n",
              "        docLink.innerHTML = docLinkHtml;\n",
              "        element.appendChild(docLink);\n",
              "      }\n",
              "    </script>\n",
              "  </div>\n",
              "\n",
              "\n",
              "<div id=\"df-73a44283-b339-4ab7-be8a-08d0789a4fa0\">\n",
              "  <button class=\"colab-df-quickchart\" onclick=\"quickchart('df-73a44283-b339-4ab7-be8a-08d0789a4fa0')\"\n",
              "            title=\"Suggest charts\"\n",
              "            style=\"display:none;\">\n",
              "\n",
              "<svg xmlns=\"http://www.w3.org/2000/svg\" height=\"24px\"viewBox=\"0 0 24 24\"\n",
              "     width=\"24px\">\n",
              "    <g>\n",
              "        <path d=\"M19 3H5c-1.1 0-2 .9-2 2v14c0 1.1.9 2 2 2h14c1.1 0 2-.9 2-2V5c0-1.1-.9-2-2-2zM9 17H7v-7h2v7zm4 0h-2V7h2v10zm4 0h-2v-4h2v4z\"/>\n",
              "    </g>\n",
              "</svg>\n",
              "  </button>\n",
              "\n",
              "<style>\n",
              "  .colab-df-quickchart {\n",
              "      --bg-color: #E8F0FE;\n",
              "      --fill-color: #1967D2;\n",
              "      --hover-bg-color: #E2EBFA;\n",
              "      --hover-fill-color: #174EA6;\n",
              "      --disabled-fill-color: #AAA;\n",
              "      --disabled-bg-color: #DDD;\n",
              "  }\n",
              "\n",
              "  [theme=dark] .colab-df-quickchart {\n",
              "      --bg-color: #3B4455;\n",
              "      --fill-color: #D2E3FC;\n",
              "      --hover-bg-color: #434B5C;\n",
              "      --hover-fill-color: #FFFFFF;\n",
              "      --disabled-bg-color: #3B4455;\n",
              "      --disabled-fill-color: #666;\n",
              "  }\n",
              "\n",
              "  .colab-df-quickchart {\n",
              "    background-color: var(--bg-color);\n",
              "    border: none;\n",
              "    border-radius: 50%;\n",
              "    cursor: pointer;\n",
              "    display: none;\n",
              "    fill: var(--fill-color);\n",
              "    height: 32px;\n",
              "    padding: 0;\n",
              "    width: 32px;\n",
              "  }\n",
              "\n",
              "  .colab-df-quickchart:hover {\n",
              "    background-color: var(--hover-bg-color);\n",
              "    box-shadow: 0 1px 2px rgba(60, 64, 67, 0.3), 0 1px 3px 1px rgba(60, 64, 67, 0.15);\n",
              "    fill: var(--button-hover-fill-color);\n",
              "  }\n",
              "\n",
              "  .colab-df-quickchart-complete:disabled,\n",
              "  .colab-df-quickchart-complete:disabled:hover {\n",
              "    background-color: var(--disabled-bg-color);\n",
              "    fill: var(--disabled-fill-color);\n",
              "    box-shadow: none;\n",
              "  }\n",
              "\n",
              "  .colab-df-spinner {\n",
              "    border: 2px solid var(--fill-color);\n",
              "    border-color: transparent;\n",
              "    border-bottom-color: var(--fill-color);\n",
              "    animation:\n",
              "      spin 1s steps(1) infinite;\n",
              "  }\n",
              "\n",
              "  @keyframes spin {\n",
              "    0% {\n",
              "      border-color: transparent;\n",
              "      border-bottom-color: var(--fill-color);\n",
              "      border-left-color: var(--fill-color);\n",
              "    }\n",
              "    20% {\n",
              "      border-color: transparent;\n",
              "      border-left-color: var(--fill-color);\n",
              "      border-top-color: var(--fill-color);\n",
              "    }\n",
              "    30% {\n",
              "      border-color: transparent;\n",
              "      border-left-color: var(--fill-color);\n",
              "      border-top-color: var(--fill-color);\n",
              "      border-right-color: var(--fill-color);\n",
              "    }\n",
              "    40% {\n",
              "      border-color: transparent;\n",
              "      border-right-color: var(--fill-color);\n",
              "      border-top-color: var(--fill-color);\n",
              "    }\n",
              "    60% {\n",
              "      border-color: transparent;\n",
              "      border-right-color: var(--fill-color);\n",
              "    }\n",
              "    80% {\n",
              "      border-color: transparent;\n",
              "      border-right-color: var(--fill-color);\n",
              "      border-bottom-color: var(--fill-color);\n",
              "    }\n",
              "    90% {\n",
              "      border-color: transparent;\n",
              "      border-bottom-color: var(--fill-color);\n",
              "    }\n",
              "  }\n",
              "</style>\n",
              "\n",
              "  <script>\n",
              "    async function quickchart(key) {\n",
              "      const quickchartButtonEl =\n",
              "        document.querySelector('#' + key + ' button');\n",
              "      quickchartButtonEl.disabled = true;  // To prevent multiple clicks.\n",
              "      quickchartButtonEl.classList.add('colab-df-spinner');\n",
              "      try {\n",
              "        const charts = await google.colab.kernel.invokeFunction(\n",
              "            'suggestCharts', [key], {});\n",
              "      } catch (error) {\n",
              "        console.error('Error during call to suggestCharts:', error);\n",
              "      }\n",
              "      quickchartButtonEl.classList.remove('colab-df-spinner');\n",
              "      quickchartButtonEl.classList.add('colab-df-quickchart-complete');\n",
              "    }\n",
              "    (() => {\n",
              "      let quickchartButtonEl =\n",
              "        document.querySelector('#df-73a44283-b339-4ab7-be8a-08d0789a4fa0 button');\n",
              "      quickchartButtonEl.style.display =\n",
              "        google.colab.kernel.accessAllowed ? 'block' : 'none';\n",
              "    })();\n",
              "  </script>\n",
              "</div>\n",
              "    </div>\n",
              "  </div>\n"
            ]
          },
          "metadata": {},
          "execution_count": 21
        }
      ]
    },
    {
      "cell_type": "code",
      "source": [
        "import random\n",
        "def show_maksed_image(N, csv_file):\n",
        "  images = []\n",
        "  colors = [[5, 10, 0.0], [0, 1, 0], [0, 5, 2]]\n",
        "  numbers = random.sample(range(1, csv_file.shape[0]), N)\n",
        "  labels = ['large bowel', 'small bowel', 'stomach']\n",
        "  titles = []\n",
        "  for n in numbers:\n",
        "    rle = csv_to_show['Segmentation'][n]\n",
        "    shape = csv_to_show['Shape'][n]\n",
        "    cls = csv_to_show['Class'][n]\n",
        "    mask_tensor = clean.rle_to_mask(rle, eval(shape), int(cls))\n",
        "    image = Image.open(csv_to_show['Image Address'][n]).convert('RGB')\n",
        "    image_tensor = T.functional.to_tensor(image)\n",
        "    if cls == 1:\n",
        "      color = colors[0]\n",
        "    elif cls == 2:\n",
        "      color = colors[1]\n",
        "    else :\n",
        "      color = colors[2]\n",
        "\n",
        "\n",
        "    image_tensor[0][mask_tensor == cls] = color[0]\n",
        "    image_tensor[1][mask_tensor == cls] = color[1]\n",
        "    image_tensor[2][mask_tensor == cls] = color[2]\n",
        "    masked = T.functional.to_pil_image(image_tensor)\n",
        "    images.append(masked)\n",
        "    titles.append(labels[cls - 1])\n",
        "\n",
        "  #show all masked images\n",
        "  if len(images) < 10:\n",
        "    k, j = 10, 10\n",
        "  else:\n",
        "    k, j = len(images), len(images)\n",
        "\n",
        "  plt.figure(figsize = (k, j))\n",
        "  if len(images)/2 != int(len(images)/2):\n",
        "    k, j = len(images), 1\n",
        "  else:\n",
        "    k, j = int(len(images)/2), 4\n",
        "  for i, image in enumerate(images):\n",
        "    plt.subplot(k, j, i + 1)\n",
        "    plt.imshow(image)\n",
        "    plt.title(titles[i])\n",
        "    plt.axis('off')\n",
        "    plt.show"
      ],
      "metadata": {
        "id": "RXcPe6yG76j3"
      },
      "execution_count": 22,
      "outputs": []
    },
    {
      "cell_type": "code",
      "source": [
        "show_maksed_image(10, csv_to_show)"
      ],
      "metadata": {
        "colab": {
          "base_uri": "https://localhost:8080/",
          "height": 510
        },
        "id": "sQA4-_yC9GyY",
        "outputId": "13895d57-a9ba-44c2-f706-cf22402e0152"
      },
      "execution_count": 23,
      "outputs": [
        {
          "output_type": "display_data",
          "data": {
            "text/plain": [
              "<Figure size 1000x1000 with 10 Axes>"
            ],
            "image/png": "[encoded data removed]"
          },
          "metadata": {}
        }
      ]
    },
    {
      "cell_type": "code",
      "source": [
        "csv_to_show.describe()"
      ],
      "metadata": {
        "colab": {
          "base_uri": "https://localhost:8080/",
          "height": 300
        },
        "id": "cNdsGFmMKIcT",
        "outputId": "aa786c43-419b-42f1-e689-246d36c01c1a"
      },
      "execution_count": 24,
      "outputs": [
        {
          "output_type": "execute_result",
          "data": {
            "text/plain": [
              "              Class\n",
              "count  24524.000000\n",
              "mean       1.838852\n",
              "std        0.800062\n",
              "min        1.000000\n",
              "25%        1.000000\n",
              "50%        2.000000\n",
              "75%        3.000000\n",
              "max        3.000000"
            ],
            "text/html": [
              "\n",
              "  <div id=\"df-964c9fe9-6c26-4a9b-9426-8019291e542a\" class=\"colab-df-container\">\n",
              "    <div>\n",
              "<style scoped>\n",
              "    .dataframe tbody tr th:only-of-type {\n",
              "        vertical-align: middle;\n",
              "    }\n",
              "\n",
              "    .dataframe tbody tr th {\n",
              "        vertical-align: top;\n",
              "    }\n",
              "\n",
              "    .dataframe thead th {\n",
              "        text-align: right;\n",
              "    }\n",
              "</style>\n",
              "<table border=\"1\" class=\"dataframe\">\n",
              "  <thead>\n",
              "    <tr style=\"text-align: right;\">\n",
              "      <th></th>\n",
              "      <th>Class</th>\n",
              "    </tr>\n",
              "  </thead>\n",
              "  <tbody>\n",
              "    <tr>\n",
              "      <th>count</th>\n",
              "      <td>24524.000000</td>\n",
              "    </tr>\n",
              "    <tr>\n",
              "      <th>mean</th>\n",
              "      <td>1.838852</td>\n",
              "    </tr>\n",
              "    <tr>\n",
              "      <th>std</th>\n",
              "      <td>0.800062</td>\n",
              "    </tr>\n",
              "    <tr>\n",
              "      <th>min</th>\n",
              "      <td>1.000000</td>\n",
              "    </tr>\n",
              "    <tr>\n",
              "      <th>25%</th>\n",
              "      <td>1.000000</td>\n",
              "    </tr>\n",
              "    <tr>\n",
              "      <th>50%</th>\n",
              "      <td>2.000000</td>\n",
              "    </tr>\n",
              "    <tr>\n",
              "      <th>75%</th>\n",
              "      <td>3.000000</td>\n",
              "    </tr>\n",
              "    <tr>\n",
              "      <th>max</th>\n",
              "      <td>3.000000</td>\n",
              "    </tr>\n",
              "  </tbody>\n",
              "</table>\n",
              "</div>\n",
              "    <div class=\"colab-df-buttons\">\n",
              "\n",
              "  <div class=\"colab-df-container\">\n",
              "    <button class=\"colab-df-convert\" onclick=\"convertToInteractive('df-964c9fe9-6c26-4a9b-9426-8019291e542a')\"\n",
              "            title=\"Convert this dataframe to an interactive table.\"\n",
              "            style=\"display:none;\">\n",
              "\n",
              "  <svg xmlns=\"http://www.w3.org/2000/svg\" height=\"24px\" viewBox=\"0 -960 960 960\">\n",
              "    <path d=\"M120-120v-720h720v720H120Zm60-500h600v-160H180v160Zm220 220h160v-160H400v160Zm0 220h160v-160H400v160ZM180-400h160v-160H180v160Zm440 0h160v-160H620v160ZM180-180h160v-160H180v160Zm440 0h160v-160H620v160Z\"/>\n",
              "  </svg>\n",
              "    </button>\n",
              "\n",
              "  <style>\n",
              "    .colab-df-container {\n",
              "      display:flex;\n",
              "      gap: 12px;\n",
              "    }\n",
              "\n",
              "    .colab-df-convert {\n",
              "      background-color: #E8F0FE;\n",
              "      border: none;\n",
              "      border-radius: 50%;\n",
              "      cursor: pointer;\n",
              "      display: none;\n",
              "      fill: #1967D2;\n",
              "      height: 32px;\n",
              "      padding: 0 0 0 0;\n",
              "      width: 32px;\n",
              "    }\n",
              "\n",
              "    .colab-df-convert:hover {\n",
              "      background-color: #E2EBFA;\n",
              "      box-shadow: 0px 1px 2px rgba(60, 64, 67, 0.3), 0px 1px 3px 1px rgba(60, 64, 67, 0.15);\n",
              "      fill: #174EA6;\n",
              "    }\n",
              "\n",
              "    .colab-df-buttons div {\n",
              "      margin-bottom: 4px;\n",
              "    }\n",
              "\n",
              "    [theme=dark] .colab-df-convert {\n",
              "      background-color: #3B4455;\n",
              "      fill: #D2E3FC;\n",
              "    }\n",
              "\n",
              "    [theme=dark] .colab-df-convert:hover {\n",
              "      background-color: #434B5C;\n",
              "      box-shadow: 0px 1px 3px 1px rgba(0, 0, 0, 0.15);\n",
              "      filter: drop-shadow(0px 1px 2px rgba(0, 0, 0, 0.3));\n",
              "      fill: #FFFFFF;\n",
              "    }\n",
              "  </style>\n",
              "\n",
              "    <script>\n",
              "      const buttonEl =\n",
              "        document.querySelector('#df-964c9fe9-6c26-4a9b-9426-8019291e542a button.colab-df-convert');\n",
              "      buttonEl.style.display =\n",
              "        google.colab.kernel.accessAllowed ? 'block' : 'none';\n",
              "\n",
              "      async function convertToInteractive(key) {\n",
              "        const element = document.querySelector('#df-964c9fe9-6c26-4a9b-9426-8019291e542a');\n",
              "        const dataTable =\n",
              "          await google.colab.kernel.invokeFunction('convertToInteractive',\n",
              "                                                    [key], {});\n",
              "        if (!dataTable) return;\n",
              "\n",
              "        const docLinkHtml = 'Like what you see? Visit the ' +\n",
              "          '<a target=\"_blank\" href=https://colab.research.google.com/notebooks/data_table.ipynb>data table notebook</a>'\n",
              "          + ' to learn more about interactive tables.';\n",
              "        element.innerHTML = '';\n",
              "        dataTable['output_type'] = 'display_data';\n",
              "        await google.colab.output.renderOutput(dataTable, element);\n",
              "        const docLink = document.createElement('div');\n",
              "        docLink.innerHTML = docLinkHtml;\n",
              "        element.appendChild(docLink);\n",
              "      }\n",
              "    </script>\n",
              "  </div>\n",
              "\n",
              "\n",
              "<div id=\"df-4be87438-a31d-4699-ad3a-021a5216d626\">\n",
              "  <button class=\"colab-df-quickchart\" onclick=\"quickchart('df-4be87438-a31d-4699-ad3a-021a5216d626')\"\n",
              "            title=\"Suggest charts\"\n",
              "            style=\"display:none;\">\n",
              "\n",
              "<svg xmlns=\"http://www.w3.org/2000/svg\" height=\"24px\"viewBox=\"0 0 24 24\"\n",
              "     width=\"24px\">\n",
              "    <g>\n",
              "        <path d=\"M19 3H5c-1.1 0-2 .9-2 2v14c0 1.1.9 2 2 2h14c1.1 0 2-.9 2-2V5c0-1.1-.9-2-2-2zM9 17H7v-7h2v7zm4 0h-2V7h2v10zm4 0h-2v-4h2v4z\"/>\n",
              "    </g>\n",
              "</svg>\n",
              "  </button>\n",
              "\n",
              "<style>\n",
              "  .colab-df-quickchart {\n",
              "      --bg-color: #E8F0FE;\n",
              "      --fill-color: #1967D2;\n",
              "      --hover-bg-color: #E2EBFA;\n",
              "      --hover-fill-color: #174EA6;\n",
              "      --disabled-fill-color: #AAA;\n",
              "      --disabled-bg-color: #DDD;\n",
              "  }\n",
              "\n",
              "  [theme=dark] .colab-df-quickchart {\n",
              "      --bg-color: #3B4455;\n",
              "      --fill-color: #D2E3FC;\n",
              "      --hover-bg-color: #434B5C;\n",
              "      --hover-fill-color: #FFFFFF;\n",
              "      --disabled-bg-color: #3B4455;\n",
              "      --disabled-fill-color: #666;\n",
              "  }\n",
              "\n",
              "  .colab-df-quickchart {\n",
              "    background-color: var(--bg-color);\n",
              "    border: none;\n",
              "    border-radius: 50%;\n",
              "    cursor: pointer;\n",
              "    display: none;\n",
              "    fill: var(--fill-color);\n",
              "    height: 32px;\n",
              "    padding: 0;\n",
              "    width: 32px;\n",
              "  }\n",
              "\n",
              "  .colab-df-quickchart:hover {\n",
              "    background-color: var(--hover-bg-color);\n",
              "    box-shadow: 0 1px 2px rgba(60, 64, 67, 0.3), 0 1px 3px 1px rgba(60, 64, 67, 0.15);\n",
              "    fill: var(--button-hover-fill-color);\n",
              "  }\n",
              "\n",
              "  .colab-df-quickchart-complete:disabled,\n",
              "  .colab-df-quickchart-complete:disabled:hover {\n",
              "    background-color: var(--disabled-bg-color);\n",
              "    fill: var(--disabled-fill-color);\n",
              "    box-shadow: none;\n",
              "  }\n",
              "\n",
              "  .colab-df-spinner {\n",
              "    border: 2px solid var(--fill-color);\n",
              "    border-color: transparent;\n",
              "    border-bottom-color: var(--fill-color);\n",
              "    animation:\n",
              "      spin 1s steps(1) infinite;\n",
              "  }\n",
              "\n",
              "  @keyframes spin {\n",
              "    0% {\n",
              "      border-color: transparent;\n",
              "      border-bottom-color: var(--fill-color);\n",
              "      border-left-color: var(--fill-color);\n",
              "    }\n",
              "    20% {\n",
              "      border-color: transparent;\n",
              "      border-left-color: var(--fill-color);\n",
              "      border-top-color: var(--fill-color);\n",
              "    }\n",
              "    30% {\n",
              "      border-color: transparent;\n",
              "      border-left-color: var(--fill-color);\n",
              "      border-top-color: var(--fill-color);\n",
              "      border-right-color: var(--fill-color);\n",
              "    }\n",
              "    40% {\n",
              "      border-color: transparent;\n",
              "      border-right-color: var(--fill-color);\n",
              "      border-top-color: var(--fill-color);\n",
              "    }\n",
              "    60% {\n",
              "      border-color: transparent;\n",
              "      border-right-color: var(--fill-color);\n",
              "    }\n",
              "    80% {\n",
              "      border-color: transparent;\n",
              "      border-right-color: var(--fill-color);\n",
              "      border-bottom-color: var(--fill-color);\n",
              "    }\n",
              "    90% {\n",
              "      border-color: transparent;\n",
              "      border-bottom-color: var(--fill-color);\n",
              "    }\n",
              "  }\n",
              "</style>\n",
              "\n",
              "  <script>\n",
              "    async function quickchart(key) {\n",
              "      const quickchartButtonEl =\n",
              "        document.querySelector('#' + key + ' button');\n",
              "      quickchartButtonEl.disabled = true;  // To prevent multiple clicks.\n",
              "      quickchartButtonEl.classList.add('colab-df-spinner');\n",
              "      try {\n",
              "        const charts = await google.colab.kernel.invokeFunction(\n",
              "            'suggestCharts', [key], {});\n",
              "      } catch (error) {\n",
              "        console.error('Error during call to suggestCharts:', error);\n",
              "      }\n",
              "      quickchartButtonEl.classList.remove('colab-df-spinner');\n",
              "      quickchartButtonEl.classList.add('colab-df-quickchart-complete');\n",
              "    }\n",
              "    (() => {\n",
              "      let quickchartButtonEl =\n",
              "        document.querySelector('#df-4be87438-a31d-4699-ad3a-021a5216d626 button');\n",
              "      quickchartButtonEl.style.display =\n",
              "        google.colab.kernel.accessAllowed ? 'block' : 'none';\n",
              "    })();\n",
              "  </script>\n",
              "</div>\n",
              "    </div>\n",
              "  </div>\n"
            ]
          },
          "metadata": {},
          "execution_count": 24
        }
      ]
    },
    {
      "cell_type": "code",
      "source": [
        "plt.hist(csv_to_show['Class'])\n",
        "plt.show\n",
        "print(f\"large bowel:{csv_to_show['Class'][csv_to_show['Class'] == 1].count()}\")\n",
        "print(f\"small bowel:{csv_to_show['Class'][csv_to_show['Class'] == 2].count()}\")\n",
        "print(f\"stomach    :{csv_to_show['Class'][csv_to_show['Class'] == 3].count()}\")"
      ],
      "metadata": {
        "colab": {
          "base_uri": "https://localhost:8080/",
          "height": 484
        },
        "id": "ZOtz1XhiMrb9",
        "outputId": "a3fa2484-5502-43ce-a907-acb53a0aa628"
      },
      "execution_count": 25,
      "outputs": [
        {
          "output_type": "stream",
          "name": "stdout",
          "text": [
            "large bowel:10143\n",
            "small bowel:8190\n",
            "stomach    :6191\n"
          ]
        },
        {
          "output_type": "display_data",
          "data": {
            "text/plain": [
              "<Figure size 640x480 with 1 Axes>"
            ],
            "image/png": "[encoded data removed]"
          },
          "metadata": {}
        }
      ]
    },
    {
      "cell_type": "code",
      "source": [
        "plt.hist(csv_to_show['Shape'])\n",
        "plt.show\n",
        "print(f\"(310, 360):{csv_to_show['Shape'][csv_to_show['Shape'] == '(310, 360)'].count()}\")\n",
        "print(f\"(266, 266):{csv_to_show['Shape'][csv_to_show['Shape'] == '(266, 266)'].count()}\")\n",
        "print(f\"(234, 234):{csv_to_show['Shape'][csv_to_show['Shape'] == '(234, 234)'].count()}\")\n",
        "print(f\"(276, 276):{csv_to_show['Shape'][csv_to_show['Shape'] == '(276, 276)'].count()}\")"
      ],
      "metadata": {
        "colab": {
          "base_uri": "https://localhost:8080/",
          "height": 503
        },
        "id": "Kg41Ian4N1Jp",
        "outputId": "bd80056c-2fa6-4d12-a01c-2b088f8ce677"
      },
      "execution_count": 26,
      "outputs": [
        {
          "output_type": "stream",
          "name": "stdout",
          "text": [
            "(310, 360):7637\n",
            "(266, 266):15676\n",
            "(234, 234):117\n",
            "(276, 276):1094\n"
          ]
        },
        {
          "output_type": "display_data",
          "data": {
            "text/plain": [
              "<Figure size 640x480 with 1 Axes>"
            ],
            "image/png": "[encoded data removed]"
          },
          "metadata": {}
        }
      ]
    },
    {
      "cell_type": "markdown",
      "source": [
        "## 🔵 **Preprocessing**"
      ],
      "metadata": {
        "id": "QwkHp3w5R9xi"
      }
    },
    {
      "cell_type": "code",
      "source": [
        "train_csv = pd.read_csv('train_info.csv')\n",
        "valid_csv = pd.read_csv('valid_info.csv')\n",
        "test_csv  = pd.read_csv('test_info.csv')"
      ],
      "metadata": {
        "id": "tQAzen0wYFLD"
      },
      "execution_count": 73,
      "outputs": []
    },
    {
      "cell_type": "code",
      "source": [
        "def preprocessing(csv_file):\n",
        "\n",
        "  csv_file = csv_file.dropna().reset_index()\n",
        "  Image_Address, ID, CLS, Segmentation, Shape = [], [], [], [], []\n",
        "  ids = list(set(csv_file['ID'].tolist()))\n",
        "\n",
        "  for i in range(len(ids)):\n",
        "    s  = csv_file[csv_file['ID'] == ids[i]]\n",
        "    im_ad = s['Image Address'].iloc[0]\n",
        "    id    = s['ID'].iloc[0]\n",
        "    shape = s['Shape'].tolist()[0]\n",
        "    cls   = s['Class'].tolist()\n",
        "    seg   = s['Segmentation'].tolist()\n",
        "\n",
        "    Image_Address.append(im_ad)\n",
        "    ID.append(id)\n",
        "    Shape.append(shape)\n",
        "    CLS.append(cls)\n",
        "    Segmentation.append(seg)\n",
        "\n",
        "  return pd.DataFrame(np.transpose(np.array([Image_Address, ID, CLS, Segmentation, Shape])), columns = ['Image Address', 'ID', 'Class', 'Segmentation', 'Shape'])\n"
      ],
      "metadata": {
        "id": "PwN2QCtac4iz"
      },
      "execution_count": 76,
      "outputs": []
    },
    {
      "cell_type": "code",
      "source": [
        "train_df = preprocessing(train_csv)\n",
        "valid_df = preprocessing(valid_csv)\n",
        "test_df  = preprocessing(test_csv)"
      ],
      "metadata": {
        "colab": {
          "base_uri": "https://localhost:8080/"
        },
        "id": "RDs5rX22Wyh6",
        "outputId": "54c11f82-8b19-45b2-d57a-0080c80f9aed"
      },
      "execution_count": 120,
      "outputs": [
        {
          "output_type": "stream",
          "name": "stderr",
          "text": [
            "<ipython-input-76-3a293b94c1ef>:21: VisibleDeprecationWarning: Creating an ndarray from ragged nested sequences (which is a list-or-tuple of lists-or-tuples-or ndarrays with different lengths or shapes) is deprecated. If you meant to do this, you must specify 'dtype=object' when creating the ndarray.\n",
            "  return pd.DataFrame(np.transpose(np.array([Image_Address, ID, CLS, Segmentation, Shape])), columns = ['Image Address', 'ID', 'Class', 'Segmentation', 'Shape'])\n",
            "<ipython-input-76-3a293b94c1ef>:21: VisibleDeprecationWarning: Creating an ndarray from ragged nested sequences (which is a list-or-tuple of lists-or-tuples-or ndarrays with different lengths or shapes) is deprecated. If you meant to do this, you must specify 'dtype=object' when creating the ndarray.\n",
            "  return pd.DataFrame(np.transpose(np.array([Image_Address, ID, CLS, Segmentation, Shape])), columns = ['Image Address', 'ID', 'Class', 'Segmentation', 'Shape'])\n",
            "<ipython-input-76-3a293b94c1ef>:21: VisibleDeprecationWarning: Creating an ndarray from ragged nested sequences (which is a list-or-tuple of lists-or-tuples-or ndarrays with different lengths or shapes) is deprecated. If you meant to do this, you must specify 'dtype=object' when creating the ndarray.\n",
            "  return pd.DataFrame(np.transpose(np.array([Image_Address, ID, CLS, Segmentation, Shape])), columns = ['Image Address', 'ID', 'Class', 'Segmentation', 'Shape'])\n"
          ]
        }
      ]
    },
    {
      "cell_type": "code",
      "source": [
        "print(f'train size : {train_df.shape[0]}')\n",
        "print(f'valid size : {valid_df.shape[0]}')\n",
        "print(f'train size : {test_df.shape[0]}')"
      ],
      "metadata": {
        "colab": {
          "base_uri": "https://localhost:8080/"
        },
        "id": "l9H0T6nIcXbB",
        "outputId": "524d37e6-e9c6-4779-9947-f5ea52b7d7c4"
      },
      "execution_count": 121,
      "outputs": [
        {
          "output_type": "stream",
          "name": "stdout",
          "text": [
            "train size : 12030\n",
            "valid size : 1493\n",
            "train size : 3067\n"
          ]
        }
      ]
    },
    {
      "cell_type": "code",
      "source": [
        "train_df.to_csv('train_case.csv')\n",
        "valid_df.to_csv('valid_case.csv')\n",
        "test_df.to_csv('test_case.csv')"
      ],
      "metadata": {
        "id": "z3WneVp7dB_G"
      },
      "execution_count": 130,
      "outputs": []
    },
    {
      "cell_type": "code",
      "source": [
        "def new_rle_to_mask(rles, shape : tuple, seg_clss : int):\n",
        "\n",
        "    shape = eval(shape)\n",
        "    mask      = np.zeros(shape, dtype=np.uint8)\n",
        "\n",
        "    for i, rle in enumerate(rles):\n",
        "      cls   = seg_clss[i]\n",
        "      rle_pairs = rle.split()\n",
        "      starts  = [int(x) - 1 for x in rle_pairs[0::2]]  # Subtract 1 to convert to 0-based indexing\n",
        "      lengths = [int(x) for x in rle_pairs[1::2]]\n",
        "\n",
        "      for start, length in zip(starts, lengths):\n",
        "          end       = start + length\n",
        "          mask_flat = mask.reshape(-1)\n",
        "          mask_flat[start:end] = cls\n",
        "\n",
        "    mask = torch.tensor(mask)\n",
        "    return mask"
      ],
      "metadata": {
        "id": "_uWrpozpYyyh"
      },
      "execution_count": 253,
      "outputs": []
    },
    {
      "cell_type": "code",
      "source": [
        "masked_tensor = new_rle_to_mask(train_df['Segmentation'][2], train_df['Shape'][2], train_df['Class'][2])"
      ],
      "metadata": {
        "id": "p6KRID5yZ_gv"
      },
      "execution_count": 254,
      "outputs": []
    },
    {
      "cell_type": "code",
      "source": [
        "plt.imshow(np.array(masked_tensor))"
      ],
      "metadata": {
        "colab": {
          "base_uri": "https://localhost:8080/",
          "height": 453
        },
        "id": "Y-C_4McFamZh",
        "outputId": "bea8b2c7-411b-4832-ffc8-22a2db8eb3a3"
      },
      "execution_count": 255,
      "outputs": [
        {
          "output_type": "execute_result",
          "data": {
            "text/plain": [
              "<matplotlib.image.AxesImage at 0x7ed10f223e50>"
            ]
          },
          "metadata": {},
          "execution_count": 255
        },
        {
          "output_type": "display_data",
          "data": {
            "text/plain": [
              "<Figure size 640x480 with 1 Axes>"
            ],
            "image/png": "[encoded data removed]"
          },
          "metadata": {}
        }
      ]
    },
    {
      "cell_type": "markdown",
      "source": [
        "## 🔵 **Custom Dataset**"
      ],
      "metadata": {
        "id": "gjMMgdUxdmb6"
      }
    },
    {
      "cell_type": "code",
      "source": [
        "class UWMadison(Dataset):\n",
        "\n",
        "  def __init__(self, csv_file_address, transform):\n",
        "    super(UWMadison, self).__init__()\n",
        "\n",
        "    self.data      = pd.read_csv(csv_file_address)\n",
        "    self.transform = transform\n",
        "\n",
        "  def __getitem__(self, index):\n",
        "    image_path  = self.data['Image Address'][index]\n",
        "    rle_segment = eval(self.data['Segmentation'][index])\n",
        "    shape       = self.data['Shape'][index]\n",
        "    clss        = eval(self.data['Class'][index])\n",
        "\n",
        "    pil_image  = Image.open(image_path).convert('RGB')\n",
        "    if self.transform:\n",
        "      image_tensor = self.transform(pil_image)\n",
        "    else:\n",
        "      image_tensor = T.functional.to_tensor(pil_image)\n",
        "\n",
        "    mask        = new_rle_to_mask(rle_segment, shape, clss)\n",
        "\n",
        "    return image_tensor, mask\n",
        "\n",
        "  def __len__(self):\n",
        "\n",
        "    return self.data.shape[0]"
      ],
      "metadata": {
        "id": "HS6sCCD4SFCq"
      },
      "execution_count": 256,
      "outputs": []
    },
    {
      "cell_type": "code",
      "source": [
        "train_dataset = UWMadison('train_case.csv', None)\n",
        "valid_dataset = UWMadison('valid_case.csv', None)\n",
        "test_dataset  = UWMadison('test_case.csv', None)"
      ],
      "metadata": {
        "id": "7x7YxzyvVkVB"
      },
      "execution_count": 257,
      "outputs": []
    },
    {
      "cell_type": "code",
      "source": [
        "len(train_dataset), len(valid_dataset), len(test_dataset)"
      ],
      "metadata": {
        "colab": {
          "base_uri": "https://localhost:8080/"
        },
        "id": "BEgLo4etV0_n",
        "outputId": "56c8850d-da9c-4b11-df0c-53aa6425075c"
      },
      "execution_count": 258,
      "outputs": [
        {
          "output_type": "execute_result",
          "data": {
            "text/plain": [
              "(12030, 1493, 3067)"
            ]
          },
          "metadata": {},
          "execution_count": 258
        }
      ]
    },
    {
      "cell_type": "code",
      "source": [
        "image_tensor, mask = train_dataset[0]"
      ],
      "metadata": {
        "id": "ookKcbhiWI9-"
      },
      "execution_count": 259,
      "outputs": []
    },
    {
      "cell_type": "code",
      "source": [
        "image_tensor.shape, mask.shape"
      ],
      "metadata": {
        "colab": {
          "base_uri": "https://localhost:8080/"
        },
        "id": "UEbhHWsLXOFi",
        "outputId": "7e1cf645-e190-4da8-c74d-b3150b77f618"
      },
      "execution_count": 260,
      "outputs": [
        {
          "output_type": "execute_result",
          "data": {
            "text/plain": [
              "(torch.Size([3, 310, 360]), torch.Size([310, 360]))"
            ]
          },
          "metadata": {},
          "execution_count": 260
        }
      ]
    },
    {
      "cell_type": "markdown",
      "source": [
        "## 🔵 **DataLoader**"
      ],
      "metadata": {
        "id": "JQc7icqdWJe-"
      }
    },
    {
      "cell_type": "code",
      "source": [
        "train_loader = DataLoader(train_dataset, batch_size = 1, shuffle = True)\n",
        "valid_loader = DataLoader(valid_dataset, batch_size = 1, shuffle = False)\n",
        "test_loader  = DataLoader(test_dataset , batch_size = 1, shuffle = False)"
      ],
      "metadata": {
        "id": "V8kcVIcrWPxK"
      },
      "execution_count": 261,
      "outputs": []
    },
    {
      "cell_type": "code",
      "source": [
        "image_tensor, mask = next(iter(train_loader))\n",
        "image_tensor.shape, mask.shape"
      ],
      "metadata": {
        "colab": {
          "base_uri": "https://localhost:8080/"
        },
        "id": "jHeaRq5xXaec",
        "outputId": "01884084-c4f2-4fe1-9591-5ea3d464da68"
      },
      "execution_count": 262,
      "outputs": [
        {
          "output_type": "execute_result",
          "data": {
            "text/plain": [
              "(torch.Size([1, 3, 266, 266]), torch.Size([1, 266, 266]))"
            ]
          },
          "metadata": {},
          "execution_count": 262
        }
      ]
    },
    {
      "cell_type": "code",
      "source": [
        "image_tensor, mask = next(iter(valid_loader))\n",
        "image_tensor.shape, mask.shape"
      ],
      "metadata": {
        "colab": {
          "base_uri": "https://localhost:8080/"
        },
        "id": "L2dCX5mtXovS",
        "outputId": "3400818e-c991-40ee-aec2-603af0e722f4"
      },
      "execution_count": 263,
      "outputs": [
        {
          "output_type": "execute_result",
          "data": {
            "text/plain": [
              "(torch.Size([1, 3, 310, 360]), torch.Size([1, 310, 360]))"
            ]
          },
          "metadata": {},
          "execution_count": 263
        }
      ]
    },
    {
      "cell_type": "code",
      "source": [
        "image_tensor, mask = next(iter(valid_loader))\n",
        "image_tensor.shape, mask.shape"
      ],
      "metadata": {
        "colab": {
          "base_uri": "https://localhost:8080/"
        },
        "id": "UhpnG-J-Xpjh",
        "outputId": "73dd9391-d43a-48ae-c850-31a36e8b7570"
      },
      "execution_count": 264,
      "outputs": [
        {
          "output_type": "execute_result",
          "data": {
            "text/plain": [
              "(torch.Size([1, 3, 310, 360]), torch.Size([1, 310, 360]))"
            ]
          },
          "metadata": {},
          "execution_count": 264
        }
      ]
    }
  ]
}